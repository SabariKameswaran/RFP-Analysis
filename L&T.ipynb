{
  "cells": [
    {
      "cell_type": "code",
      "execution_count": null,
      "id": "5740fc70-c513-4ff4-9d72-cfc098f85fef",
      "metadata": {
        "id": "5740fc70-c513-4ff4-9d72-cfc098f85fef"
      },
      "outputs": [],
      "source": [
        "%%capture\n",
        "! pip install langchain  pydantic lxml langchainhub fastapi kaleido uvicorn"
      ]
    },
    {
      "cell_type": "code",
      "execution_count": null,
      "id": "NOBns07W9zpO",
      "metadata": {
        "colab": {
          "base_uri": "https://localhost:8080/",
          "height": 1000
        },
        "id": "NOBns07W9zpO",
        "outputId": "be7d8547-23bc-477c-bf72-fccab5c9275b"
      },
      "outputs": [],
      "source": [
        " pip install \"unstructured[all-docs]==0.10.26\""
      ]
    },
    {
      "cell_type": "code",
      "execution_count": null,
      "id": "0BR2SzzaREQG",
      "metadata": {
        "id": "0BR2SzzaREQG"
      },
      "outputs": [],
      "source": [
        "%%capture\n",
        "!sudo apt-get install poppler-utils tesseract-ocr"
      ]
    },
    {
      "cell_type": "code",
      "execution_count": 2,
      "id": "111263fe",
      "metadata": {},
      "outputs": [],
      "source": [
        "data = \"./pdf/td1.pdf\""
      ]
    },
    {
      "cell_type": "code",
      "execution_count": 4,
      "id": "LY8ZrDtm0g2w",
      "metadata": {
        "colab": {
          "base_uri": "https://localhost:8080/",
          "height": 304,
          "referenced_widgets": [
            "1525952101aa4fd0865b6cbc22e94825",
            "af3de7a8c1044b4bbc91691e806c51ff",
            "aa770db53a16496998563ad14a7eb9ee",
            "e647da2860034d9b85be15ed1a721ea5",
            "df30074b15d74406b8156e65af8a2cf3",
            "0eee8fc844af423bbea3ed20c7bb0c61",
            "952d2cf23e084aa693683f825e04ded5",
            "12fbdc1003ba427fb2f0d2de18f7c47f",
            "2a79f29e14de48c6972cd1a4e0b51845",
            "40628761c67c498f8a677f3c0cbc831e",
            "0eb26796e4ca440593250b679c98af6f",
            "85328b5b02c4463ba4066df53b4ccacf",
            "4b9a8fa2bdae44c2965a58fea57d8b11",
            "d80a6a11da6f4cfd85b978a82963798b",
            "4a7315e99fe44dc09caa7f2b0a0a5bae",
            "cf2a39352c61412cae872e58d0502b16",
            "60da93f4d1e048179c4124e5cded9880",
            "71731a574ef94e50a36631234c66f4f4",
            "7e9a2be80acc41c1a994abfc2e59823b",
            "7288cbaf26214dd0adcda46639b98ebe",
            "5784447d7de4465f8fcf50327349137e",
            "706cfce1d29e44de84f8409c101472be",
            "3f661d6d5a0541d5a6652e2a1ef38676",
            "b7690ccf67de418b916aa176dce366bf",
            "2030d8e5efca4a12b0889e7bd04ea8b5",
            "92d74d928eca41c9b142a3b7fee8bf14",
            "2e2cf5cee72348db8beff78565bd06ca",
            "066000f7ff9e49678cca3bda26328267",
            "96aab3e127ac454d825d00ce9d8c5cc8",
            "735f5c10850a41d89ec083a018681134",
            "bef9c3cd55754eea99b0dad99f049360",
            "2d945d069f6444158475993425286d33",
            "5158c6fa6a9f41029027f04b4232f13a",
            "10624a85196a4db3ab18faebb168024e",
            "c6abd6b026854e16a8a7db571ea5cc5b",
            "43042d5548fc4633bfab93f3bcc9986b",
            "414dd4d13a9c43b898a1acc6c558e110",
            "374ceed68fec401592f4b1997f229783",
            "27e87e32140d4abb88f07835efecf7dd",
            "2f0df68e7a0243908882355bb6ed75ca",
            "e41e2ee57f264ff988bb56df16ac5f7a",
            "953bc03a15d14674abb96b459a52eff0",
            "0ec6a153f1734fa69e3fc23933012cfc",
            "7d91e07c4931483a82548e0f09fdb686"
          ]
        },
        "id": "LY8ZrDtm0g2w",
        "outputId": "afb90fe0-ee7a-45c8-f3b0-90038f99d59e"
      },
      "outputs": [
        {
          "name": "stderr",
          "output_type": "stream",
          "text": [
            "Some weights of the model checkpoint at microsoft/table-transformer-structure-recognition were not used when initializing TableTransformerForObjectDetection: ['model.backbone.conv_encoder.model.layer2.0.downsample.1.num_batches_tracked', 'model.backbone.conv_encoder.model.layer3.0.downsample.1.num_batches_tracked', 'model.backbone.conv_encoder.model.layer4.0.downsample.1.num_batches_tracked']\n",
            "- This IS expected if you are initializing TableTransformerForObjectDetection from the checkpoint of a model trained on another task or with another architecture (e.g. initializing a BertForSequenceClassification model from a BertForPreTraining model).\n",
            "- This IS NOT expected if you are initializing TableTransformerForObjectDetection from the checkpoint of a model that you expect to be exactly identical (initializing a BertForSequenceClassification model from a BertForSequenceClassification model).\n"
          ]
        }
      ],
      "source": [
        "from lxml import html\n",
        "from pydantic import BaseModel\n",
        "from typing import Any, Optional\n",
        "from unstructured.partition.pdf import partition_pdf\n",
        "\n",
        "raw_pdf_elements = partition_pdf(filename=data,\n",
        "                                 extract_image_block_types=[ \"Table\",\"image\"],\n",
        "                                 infer_table_structure=True,\n",
        "                                 chunking_strategy=\"by_title\",\n",
        "                                 max_characters=40000,\n",
        "                                 new_after_n_chars=3800,\n",
        "                                 combine_text_under_n_chars=2000,\n",
        "                                 )"
      ]
    },
    {
      "cell_type": "code",
      "execution_count": 12,
      "id": "628abfc6-4057-434b-b880-d88e3ba44657",
      "metadata": {
        "colab": {
          "base_uri": "https://localhost:8080/"
        },
        "id": "628abfc6-4057-434b-b880-d88e3ba44657",
        "outputId": "ecdcb012-05d9-4b2b-df1b-34bbfaaa427e"
      },
      "outputs": [
        {
          "data": {
            "text/plain": [
              "{\"<class 'unstructured.documents.elements.CompositeElement'>\": 48,\n",
              " \"<class 'unstructured.documents.elements.Table'>\": 38}"
            ]
          },
          "execution_count": 12,
          "metadata": {},
          "output_type": "execute_result"
        }
      ],
      "source": [
        "category_counts = {}\n",
        "\n",
        "for element in raw_pdf_elements:\n",
        "    category = str(type(element))\n",
        "    if category in category_counts:\n",
        "        category_counts[category] += 1\n",
        "    else:\n",
        "        category_counts[category] = 1\n",
        "\n",
        "unique_categories = set(category_counts.keys())\n",
        "category_counts"
      ]
    },
    {
      "cell_type": "code",
      "execution_count": 14,
      "id": "5462f29e-fd59-4e0e-9493-ea3b560e523e",
      "metadata": {
        "colab": {
          "base_uri": "https://localhost:8080/"
        },
        "id": "5462f29e-fd59-4e0e-9493-ea3b560e523e",
        "outputId": "2f3ebacd-cc03-4c04-b8fd-cd3bf1a02893"
      },
      "outputs": [
        {
          "name": "stdout",
          "output_type": "stream",
          "text": [
            "38\n",
            "48\n"
          ]
        }
      ],
      "source": [
        "class Element(BaseModel):\n",
        "    type: str\n",
        "    text: Any\n",
        "\n",
        "categorized_elements = []\n",
        "for element in raw_pdf_elements:\n",
        "    if \"unstructured.documents.elements.Table\" in str(type(element)):\n",
        "        categorized_elements.append(Element(type=\"table\", text=str(element)))\n",
        "    elif \"unstructured.documents.elements.CompositeElement\" in str(type(element)):\n",
        "        categorized_elements.append(Element(type=\"text\", text=str(element)))\n",
        "\n",
        "\n",
        "table_elements = [e for e in categorized_elements if e.type == \"table\"]\n",
        "print(len(table_elements))\n",
        "\n",
        "\n",
        "text_elements = [e for e in categorized_elements if e.type == \"text\"]\n",
        "print(len(text_elements))"
      ]
    },
    {
      "cell_type": "code",
      "execution_count": 15,
      "id": "ss8cFBLmH4-W",
      "metadata": {
        "id": "ss8cFBLmH4-W"
      },
      "outputs": [
        {
          "name": "stdout",
          "output_type": "stream",
          "text": [
            "Note: you may need to restart the kernel to use updated packages.\n"
          ]
        }
      ],
      "source": [
        "pip install -q -U google-generativeai"
      ]
    },
    {
      "cell_type": "code",
      "execution_count": 16,
      "id": "_mb4UF92H5VP",
      "metadata": {
        "id": "_mb4UF92H5VP"
      },
      "outputs": [],
      "source": [
        "import pathlib\n",
        "import textwrap\n",
        "\n",
        "import google.generativeai as genai\n",
        "\n",
        "from IPython.display import display\n",
        "from IPython.display import Markdown\n",
        "\n",
        "\n",
        "def to_markdown(text):\n",
        "  text = text.replace('•', '  *')\n",
        "  return Markdown(textwrap.indent(text, '> ', predicate=lambda _: True))"
      ]
    },
    {
      "cell_type": "code",
      "execution_count": null,
      "id": "ixac2ScEH5Y3",
      "metadata": {
        "id": "ixac2ScEH5Y3"
      },
      "outputs": [],
      "source": [
        "from google.colab import userdata"
      ]
    },
    {
      "cell_type": "code",
      "execution_count": 17,
      "id": "FG-jm5twH5nf",
      "metadata": {
        "id": "FG-jm5twH5nf"
      },
      "outputs": [],
      "source": [
        "\n",
        "from dotenv import load_dotenv\n",
        "\n",
        "load_dotenv()\n",
        "\n",
        "import os\n",
        "\n",
        "GOOGLE_API_KEY=os.getenv(\"GOOGLE_API_KEY\")\n",
        "\n",
        "genai.configure(api_key=GOOGLE_API_KEY)"
      ]
    },
    {
      "cell_type": "code",
      "execution_count": 18,
      "id": "C9-ewwR7H5q_",
      "metadata": {
        "id": "C9-ewwR7H5q_"
      },
      "outputs": [],
      "source": [
        "model = genai.GenerativeModel('gemini-pro')"
      ]
    },
    {
      "cell_type": "code",
      "execution_count": 19,
      "id": "f2Go5pG9IVsA",
      "metadata": {
        "id": "f2Go5pG9IVsA"
      },
      "outputs": [],
      "source": [
        "response = model.generate_content(\"What is the meaning of life?\")"
      ]
    },
    {
      "cell_type": "code",
      "execution_count": 20,
      "id": "odJpqfG-IXbw",
      "metadata": {
        "colab": {
          "base_uri": "https://localhost:8080/"
        },
        "id": "odJpqfG-IXbw",
        "outputId": "ec7b5292-841c-45da-cdcc-efdcc4f11066"
      },
      "outputs": [
        {
          "data": {
            "text/plain": [
              "<google.generativeai.types.generation_types.GenerateContentResponse at 0x7f483c305150>"
            ]
          },
          "execution_count": 20,
          "metadata": {},
          "output_type": "execute_result"
        }
      ],
      "source": [
        "response"
      ]
    },
    {
      "cell_type": "code",
      "execution_count": null,
      "id": "XjKVUagfJhuw",
      "metadata": {
        "colab": {
          "base_uri": "https://localhost:8080/"
        },
        "id": "XjKVUagfJhuw",
        "outputId": "a6709922-59d7-4daa-94f8-985044c03479"
      },
      "outputs": [],
      "source": [
        "pip install langchain_google_genai"
      ]
    },
    {
      "cell_type": "code",
      "execution_count": 21,
      "id": "8e275736-3408-4d7a-990e-4362c88e81f8",
      "metadata": {
        "id": "8e275736-3408-4d7a-990e-4362c88e81f8"
      },
      "outputs": [],
      "source": [
        "from langchain_google_genai import ChatGoogleGenerativeAI\n",
        "from langchain.prompts import ChatPromptTemplate\n",
        "from langchain.schema.output_parser import StrOutputParser"
      ]
    },
    {
      "cell_type": "code",
      "execution_count": 24,
      "id": "76Kht2cljhrd",
      "metadata": {
        "id": "76Kht2cljhrd"
      },
      "outputs": [],
      "source": [
        "os.environ[\"LANGCHAIN_TRACING_V2\"]=\"true\"\n",
        "os.environ[\"LANGCHAIN_ENDPOINT\"]=\"https://api.smith.langchain.com\"\n",
        "os.environ[\"LANGCHAIN_API_KEY\"]=\"ls__61a54282f63545c7bb1ac85f6ece9abd\"\n",
        "os.environ[\"LANGCHAIN_PROJECT\"]=\"langchain_semi_structured_RAG\""
      ]
    },
    {
      "cell_type": "code",
      "execution_count": 47,
      "id": "cAi6HarSJk-k",
      "metadata": {
        "id": "cAi6HarSJk-k"
      },
      "outputs": [],
      "source": [
        "from google.generativeai.types import HarmCategory, HarmBlockThreshold\n",
        "\n",
        "safety_settings={\n",
        "        HarmCategory.HARM_CATEGORY_HATE_SPEECH: HarmBlockThreshold.BLOCK_NONE,\n",
        "        HarmCategory.HARM_CATEGORY_HARASSMENT: HarmBlockThreshold.BLOCK_NONE,\n",
        "        HarmCategory.HARM_CATEGORY_SEXUALLY_EXPLICIT: HarmBlockThreshold.BLOCK_NONE,\n",
        "        HarmCategory.HARM_CATEGORY_DANGEROUS_CONTENT: HarmBlockThreshold.BLOCK_NONE\n",
        "    }\n",
        "\n",
        "\n"
      ]
    },
    {
      "cell_type": "code",
      "execution_count": 49,
      "id": "1b12536a-1303-41ad-9948-4eb5a5f32614",
      "metadata": {
        "id": "1b12536a-1303-41ad-9948-4eb5a5f32614"
      },
      "outputs": [],
      "source": [
        "prompt_text=\"\"\"Please provide a brief, appropriate summary of the information contained in the following table or text: {element}\"\"\"\n",
        "prompt = ChatPromptTemplate.from_template(prompt_text)\n",
        "\n",
        "\n",
        "model= ChatGoogleGenerativeAI(model=\"gemini-pro\", google_api_key=GOOGLE_API_KEY,safety_settings=safety_settings)\n",
        "summarize_chain = {\"element\": lambda x:x} | prompt | model | StrOutputParser()"
      ]
    },
    {
      "cell_type": "code",
      "execution_count": 27,
      "id": "8qTxol-BG-jI",
      "metadata": {
        "colab": {
          "base_uri": "https://localhost:8080/"
        },
        "id": "8qTxol-BG-jI",
        "outputId": "1eb85edc-dca4-48d8-c9e7-4da949815d9d"
      },
      "outputs": [
        {
          "name": "stderr",
          "output_type": "stream",
          "text": [
            "WARNING:langchain_google_genai.chat_models:Retrying langchain_google_genai.chat_models._chat_with_retry.<locals>._chat_with_retry in 2.0 seconds as it raised ResourceExhausted: 429 Resource has been exhausted (e.g. check quota)..\n",
            "WARNING:langchain_google_genai.chat_models:Retrying langchain_google_genai.chat_models._chat_with_retry.<locals>._chat_with_retry in 2.0 seconds as it raised ResourceExhausted: 429 Resource has been exhausted (e.g. check quota)..\n",
            "WARNING:langchain_google_genai.chat_models:Retrying langchain_google_genai.chat_models._chat_with_retry.<locals>._chat_with_retry in 4.0 seconds as it raised ResourceExhausted: 429 Resource has been exhausted (e.g. check quota)..\n",
            "WARNING:langchain_google_genai.chat_models:Retrying langchain_google_genai.chat_models._chat_with_retry.<locals>._chat_with_retry in 2.0 seconds as it raised ResourceExhausted: 429 Resource has been exhausted (e.g. check quota)..\n",
            "WARNING:langchain_google_genai.chat_models:Retrying langchain_google_genai.chat_models._chat_with_retry.<locals>._chat_with_retry in 4.0 seconds as it raised ResourceExhausted: 429 Resource has been exhausted (e.g. check quota)..\n",
            "WARNING:langchain_google_genai.chat_models:Retrying langchain_google_genai.chat_models._chat_with_retry.<locals>._chat_with_retry in 2.0 seconds as it raised ResourceExhausted: 429 Resource has been exhausted (e.g. check quota)..\n",
            "WARNING:langchain_google_genai.chat_models:Retrying langchain_google_genai.chat_models._chat_with_retry.<locals>._chat_with_retry in 2.0 seconds as it raised ResourceExhausted: 429 Resource has been exhausted (e.g. check quota)..\n",
            "WARNING:langchain_google_genai.chat_models:Retrying langchain_google_genai.chat_models._chat_with_retry.<locals>._chat_with_retry in 2.0 seconds as it raised ResourceExhausted: 429 Resource has been exhausted (e.g. check quota)..\n",
            "WARNING:langchain_google_genai.chat_models:Retrying langchain_google_genai.chat_models._chat_with_retry.<locals>._chat_with_retry in 4.0 seconds as it raised ResourceExhausted: 429 Resource has been exhausted (e.g. check quota)..\n",
            "WARNING:langchain_google_genai.chat_models:Retrying langchain_google_genai.chat_models._chat_with_retry.<locals>._chat_with_retry in 2.0 seconds as it raised ResourceExhausted: 429 Resource has been exhausted (e.g. check quota)..\n",
            "WARNING:langchain_google_genai.chat_models:Retrying langchain_google_genai.chat_models._chat_with_retry.<locals>._chat_with_retry in 8.0 seconds as it raised ResourceExhausted: 429 Resource has been exhausted (e.g. check quota)..\n",
            "WARNING:langchain_google_genai.chat_models:Retrying langchain_google_genai.chat_models._chat_with_retry.<locals>._chat_with_retry in 4.0 seconds as it raised ResourceExhausted: 429 Resource has been exhausted (e.g. check quota)..\n",
            "WARNING:langchain_google_genai.chat_models:Retrying langchain_google_genai.chat_models._chat_with_retry.<locals>._chat_with_retry in 4.0 seconds as it raised ResourceExhausted: 429 Resource has been exhausted (e.g. check quota)..\n",
            "WARNING:langchain_google_genai.chat_models:Retrying langchain_google_genai.chat_models._chat_with_retry.<locals>._chat_with_retry in 4.0 seconds as it raised ResourceExhausted: 429 Resource has been exhausted (e.g. check quota)..\n",
            "WARNING:langchain_google_genai.chat_models:Retrying langchain_google_genai.chat_models._chat_with_retry.<locals>._chat_with_retry in 8.0 seconds as it raised ResourceExhausted: 429 Resource has been exhausted (e.g. check quota)..\n",
            "WARNING:langchain_google_genai.chat_models:Retrying langchain_google_genai.chat_models._chat_with_retry.<locals>._chat_with_retry in 8.0 seconds as it raised ResourceExhausted: 429 Resource has been exhausted (e.g. check quota)..\n",
            "WARNING:langchain_google_genai.chat_models:Retrying langchain_google_genai.chat_models._chat_with_retry.<locals>._chat_with_retry in 8.0 seconds as it raised ResourceExhausted: 429 Resource has been exhausted (e.g. check quota)..\n",
            "WARNING:langchain_google_genai.chat_models:Retrying langchain_google_genai.chat_models._chat_with_retry.<locals>._chat_with_retry in 8.0 seconds as it raised ResourceExhausted: 429 Resource has been exhausted (e.g. check quota)..\n",
            "WARNING:langchain_google_genai.chat_models:Retrying langchain_google_genai.chat_models._chat_with_retry.<locals>._chat_with_retry in 16.0 seconds as it raised ResourceExhausted: 429 Resource has been exhausted (e.g. check quota)..\n",
            "WARNING:langchain_google_genai.chat_models:Retrying langchain_google_genai.chat_models._chat_with_retry.<locals>._chat_with_retry in 16.0 seconds as it raised ResourceExhausted: 429 Resource has been exhausted (e.g. check quota)..\n"
          ]
        }
      ],
      "source": [
        "texts = [i.text for i in text_elements]\n",
        "tables = [i.text for i in table_elements]\n",
        "text_summaries = summarize_chain.batch(texts, {\"max_concurrency\": 5})\n",
        "table_summaries = summarize_chain.batch(tables, {\"max_concurrency\": 5})"
      ]
    },
    {
      "cell_type": "code",
      "execution_count": 52,
      "id": "0a2ffb57",
      "metadata": {},
      "outputs": [
        {
          "data": {
            "text/plain": [
              "['ARULMIGU ARTHANAREESWARAR TEMPLE\\n\\nTIRUCHENGODE TOWN AND TALUK, NAMAKKAL DISTRICT\\n\\nTender Schedule issued to ............................................ vide.\\n\\nM.R. No. ...................... dated ...................... containing the following.',\n",
              " 'S. No.\\n\\n1.\\n\\nSchedule – A\\n\\nrates and approximate\\n\\nSchedule of quantities.\\n\\n2.\\n\\nSchedule – B\\n\\nRate of Progress\\n\\n3.\\n\\nDrawings\\n\\n4.\\n\\nEligibility criteria, EMD, Security deposit, Retention amount,Pre-visit to site, Special conditions and safety provisions\\n\\nSchedule – C\\n\\n5.\\n\\nAffidavit\\n\\nSchedule – D\\n\\nUndertaking\\n\\n6.\\n\\nSchedule – E\\n\\n7.\\n\\nSchedule – F\\n\\nDeclaration\\n\\nAssistant Commissioner/Executive Officer\\n\\nName of the Tenderer\\n\\n:\\n\\nTNGST Registration Number\\n\\nArea Code\\n\\nName of the Assessment Circle :\\n\\n:\\n\\n:\\n\\nSignature of the Contractor\\n\\nARULMIGU ARTHANAREESWARAR TEMPLE\\n\\nTIRUCHENGODE TOWN AND TALUK, NAMAKKAL DISTRICT.\\n\\nNAME OF WORK :\\n\\nConstruction of Pasumadam',\n",
              " 'forArulmiguArthanareeswarar temple, Tiruchengode Town\\n\\nand Taluk,Namakkal District.\\n\\nLast Date and Time\\n\\n14.03.2023 up to 2:30 PM\\n\\nfor submission of\\n\\nTender\\n\\nDate and Time of opening of Tender\\n\\n14.03.2023 from 3:00 PM onwards\\n\\nEarnest Money\\n\\nRs.30000/-\\n\\nDeposit (E.M.D.)\\n\\nValue\\n\\nTender document cost Rs.10620/-(for direct purchase)\\n\\nSignature of Assistant Commissioner/ Executive Officer\\n\\nSignature of Contractor\\n\\nARULMIGU ARTHANAREESWARAR TEMPLE\\n\\nTIRUCHENGODE TOWN AND TALUK, NAMAKKAL DISTRICT\\n\\nemail ID:aceoslm_4890.hrce@tn.gov.in\\n\\nTender Notice\\n\\nTender Notice No. 130/2022Dated:22.02.2023\\n\\nTenders are invited by the Assistant Commissioner/Executive\\n\\nOfficer, ArulmiguArthanareeswarar temple, TiruchengodeTown & Taluk, Namakkal Districtfrom T.N.P.W.D. Class V and above Registered Contractors as stipulated in tender conditionfor the work of“Construction of Pasumadam forArulmiguArthanareeswarar temple,Tiruchengode Town and Taluk,Namakkal District”,up to 2:30PM on14.03.2023under Sealed Cover (Item wise Rate Tender). The received tenders will be opened on the same day from3:00 PM in the presence of\\n\\nTenderers or their authorized representatives.\\n\\n1 Approximate value of work\\n\\nRs.38,56,982/-',\n",
              " '2 E.M.D.\\n\\nRs.30000/-\\n\\nUp to 13.03.2023until 5:45PM\\n\\n3\\n\\nPeriod of Issue of Tender\\n\\nDocuments\\n\\n4\\n\\nLast date for receipt of Tender\\n\\n14.03.2023upto 2:30 PM\\n\\ndocuments\\n\\n5\\n\\nPeriod of Completion\\n\\n6 Months (Six Months )\\n\\nSignature of Assistant Commissioner/ Executive Officer\\n\\nSignature of Contractor\\n\\nTender\\n\\nTender document published in www.tenders.tn.gov.in www.tnhrce.gov.incan be downloaded at free of cost for the above work.\\n\\nand\\n\\nThe Tender documents can also be directly obtained from the Office of the Assistant Commissioner/Executive Officer, ArulmiguArthanareeswarar temple, TiruchengodeTown & Taluk, Namakkal District on payment of Rs.9,000/- + GST Rs.1,620/-\\n\\nE.M.D. for the above work should be remitted in the name of Assistant Commissioner/Executive Officer, ArulmiguArthanareeswarar temple, TiruchengodeTown & Taluk, Namakkal District. The details on mode of payment towards E.M.D. are given in the tender documents.\\n\\nFor any reason, the last date for receipt of tender documents will be a Government holiday, as announced by the Government; the tender documents will be received on the next working day.\\n\\nOther details if any required, can be obtained from Office of the\\n\\nAssistant Commissioner/Executive Officer,ArulmiguArthanareeswarar\\n\\ntemple, TiruchengodeTown &Taluk, Namakkal District.\\n\\nemail ID: aceoslm_4890.hrce@tn.gov.in\\n\\nSignature of Assistant Commissioner/ Executive Officer\\n\\nSignature of Contractor\\n\\nSCOPE OF WORK\\n\\nproposed\\n\\nConstruct\\n\\nIt\\n\\nis\\n\\nproposed\\n\\nto\\n\\nConstruct\\n\\nPasumadam\\n\\nfor\\n\\ncowsforArulmiguArthanareeswarar temple at Tiruchengode Town and Taluk in Namakkal District. The Pasumadam comprises a separate unit for each cowwith cow feeding space and drain facilities. Each unit is separated by a brick partition wall. TheGalvalume sheet roof connected with truss and column in SHS and RHSwith RCC column pedestal is proposed for the shed. A separate path for visitors is also provided. A separate unit comprises Medical room with toilet facility, Store room/ equipment room and fodder room are to be built in brick masonry wall and RCC roof.The Granolithic floor finish is proposed for the floor. The Brick wall with Varivargham/Salaharam to represent a temple pattern is proposed at the façade.Pasumadam is surrounded by\\n\\n24',\n",
              " 'Compound wall in brick masonry.\\n\\nSignature of Assistant Commissioner/ Executive Officer\\n\\nSignature of Contractor\\n\\nARULMIGU ARTHANAREESWARAR TEMPLE\\n\\nTIRUCHENGODE TOWN AND TALUK, NAMAKKAL DISTRICT\\n\\nName of the work:CONSTRUCTION OF PASUMADAMFOR ARULMIGU ARTHANAREESWARAR TEMPLE, TIRUCHENGODE\\n\\nTOWN AND TALUK,NAMAKKAL DISTRICT.\\n\\nSchedule A\\n\\n: Schedule of rates and approximate quantities.\\n\\na. The quantities here given are subject to alterations, omissions, deductions (or) additions as provided for in the conditions of contract, and do not necessarily show the actual quantity of supply to be make. The unit rates noted below are those governing payments for extras (or) deductions for omissions according to the conditions of contract, as said forth with in the conditions and\\n\\nspecifications of this contract.\\n\\nb. The rates quoted are for supply in site and complete in every respect\\n\\naccording to the specifications and without any additional charge for any necessary (or) contingent works connected there with.\\n\\nSignature of Assistant Commissioner/ Executive Officer\\n\\nSignature of Contractor\\n\\nARULMIGU ARTHANAREESWARAR TEMPLE\\n\\nTIRUCHENGODE TOWN AND TALUK, NAMAKKAL DISTRICT\\n\\nName of the work:CONSTRUCTION OF PASUMADAMFOR ARULMIGU ARTHANAREESWARAR TEMPLE,TIRUCHENGODE TOWN AND TALUK,NAMAKKAL DISTRICT.\\n\\nTENDER SCHEDULE FORM: (A) RATES AND APPROXIMATE QUANTITIES\\n\\nRate\\n\\nS. No .\\n\\nT.N.D. S.S. No.',\n",
              " 'Probable Quantity\\n\\nDescription of works\\n\\nUnit\\n\\nIn figures\\n\\nIn words\\n\\n65.00 m3 (Cubicmetr e)\\n\\nEarthwork excavation for foundation in all soils and sub soils to full depth as may be directed except in hard rock requiring blasting inclusive of shoring shuttering, bailing out water wherever necessary refilling the foundation with excavated earth other than sandy soil in layers of not more than 15 cm thick layers well rammed and depositing the surplus earth within compound in places shown by the departmental officers with an initial lead of 10 metre and\\n\\n1m3 (One cubic metre)\\n\\n1\\n\\nAmount\\n\\nSignature of Assistant Commissioner/Executive Officer\\n\\nNo. of Corrections : No. of Over writings :\\n\\nSignature of Contractor\\n\\nRate\\n\\nS. No .\\n\\nT.N.D. S.S. No.',\n",
              " 'Probable Quantity\\n\\nDescription of works\\n\\nUnit\\n\\nIn figures\\n\\nIn words\\n\\ninitial lift of 2 metre and clearing and leveling the site etc., complete complying with standard specification and as directed by the departmental officers. Supplying and Filling in foundation and basement with Gravel in layers of not more than 15cm thick well rammed watered and consolidated etc., complete complying with standard specification and as directed by the departmental officers. Supplying and filling in foundation, basement, etc with filling M sand in layers of not more than 15 cm thick well watered, rammed and consolidated etc. complete complying with standard specification and as directed by the departmental officers. Refilling with excavated earth other than crushed stone sand with an initial head load of 100 mts. and depositing the earth as shown by the departmental officers in layers of not more than\\n\\n1m3 (One cubic metre)\\n\\n2\\n\\n78.00 m3 (Cubicmetr e)\\n\\n26.00 m3 (Cubicmetr e)\\n\\n1m3 (One cubic metre)\\n\\n3\\n\\n4\\n\\n1m3 (One cubic metre)\\n\\n65.00m3 (Cubicmetr e)\\n\\nSignature of Assistant Commissioner/Executive Officer\\n\\nNo. of Corrections : No. of Over writings :\\n\\nSignature of Contractor\\n\\nAmount\\n\\nRate\\n\\nS. No .\\n\\nT.N.D. S.S. No.',\n",
              " 'Probable Quantity\\n\\nDescription of works\\n\\nUnit\\n\\nIn words\\n\\nIn figures\\n\\n15 cm thick well rammed, watered and consolidated etc. complete complying with standard specification\\n\\n50.00m3 (Cubicmetr e)\\n\\n1m3 (One cubic metre)\\n\\n5\\n\\nRefilling with carted earth other than crushed stone sand with an initial head load of 100 mts. and depositing the earth as shown by the departmental officers in layers of not more than 15 cm thick well rammed, watered and consolidated etc. complete complying with standard specification Cement Concrete 1:5:10 (One Cement, Five sand and Ten hard broken stone jelly) using 40 mm gauge hard broken granite stone jelly for foundation including dewatering wherever necessary and laid in layers of not more than 15 cm thick well rammed, consolidated and curing etc. complete complying with standard specification\\n\\n1m3 (One cubic metre)\\n\\n11.00m3 (Cubicmetr e)\\n\\n6\\n\\nSignature of Assistant Commissioner/Executive Officer\\n\\nNo. of Corrections : No. of Over writings :\\n\\nSignature of Contractor\\n\\nAmount\\n\\nRate\\n\\nS. No .\\n\\nT.N.D. S.S. No.\\n\\nProbable Quantity',\n",
              " 'Description of works\\n\\nUnit\\n\\nIn words\\n\\nIn figures\\n\\n52.00m3 (Cubicmetr e)\\n\\n1m3 (One cubic metre)\\n\\n7\\n\\nCement Concrete 1:4:8 (One cement, Five sand and Ten hard broken stone) using 40 mm gauge hard broken jelly for flooring including laying, consolidating, finishing, rendering the top surface rough to receive the floor, curing, etc. complete complying with standard specification. (The rate is inclusive of necessary planking for panelling wherever necessary and as directed by the departmental officers Providing and laying in position, standardised concrete Mix M-20 Grade in accordance with IS 456 using 20mm and down graded hard broken granite stone jelly for all RCC items of works with minimum cement content of 325 kg/m3 and maximum water cement ratio of 0.55, including admixture (plasticiser / super plasticiser) in recommended proportions as per IS:9103 to accelerate, retard setting of concrete, improve workability\\n\\n1m3 (One cubic metre)\\n\\n8\\n\\n25.00m3 (Cubicmetr e)\\n\\nSignature of Assistant Commissioner/Executive Officer\\n\\nNo. of Corrections : No. of Over writings :\\n\\nSignature of Contractor\\n\\nAmount\\n\\nRate\\n\\nS. No .\\n\\nT.N.D. S.S. No.\\n\\nProbable Quantity',\n",
              " 'Description of works\\n\\nUnit\\n\\nIn figures\\n\\nIn words\\n\\nwithout impairing strength and durability with about (5 cu.m.) 7730 kg. of 20mm machine crushed stone jelly and with about (3.3 cu.m.) 5156 kg. of 10-12mm machine crushed stone jelly and with about (4.79 cu.m) 7670 kg. of sand, but excluding cost of reinforcement grill and fabricating charges, centering and shuttering and also including laying, vibrating with mechanical vibrators, finishing, curing, etc. and providing fixtures like fan clamps in the RCC floor/ roof slabs wherever necessary without claiming extra, etc., complete complying with standard specification and as directed by the departmental officers. The coarse and fine aggregates to be used should comply with the requirements of IS standards. (No separate payment will be made by the Department for the excess usage of materials) – Upto Basement\\n\\nSignature of Assistant Commissioner/Executive Officer\\n\\nNo. of Corrections : No. of Over writings :\\n\\nSignature of Contractor\\n\\nAmount\\n\\nRate\\n\\nS. No .\\n\\nT.N.D. S.S. No.\\n\\nProbable Quantity',\n",
              " 'Description of works\\n\\nUnit\\n\\nIn figures\\n\\nIn words\\n\\n9\\n\\n8.00m3 (cubic metre)\\n\\nProviding and laying in position, standardised concrete Mix M-20 Grade in accordance with IS 456 using 20mm and down graded hard broken granite stone jelly for all RCC items of works with minimum cement content of 325 kg/m3 and maximum water cement ratio of 0.55, including admixture (plasticiser / super plasticiser) in recommended proportions as per IS:9103 to accelerate, retard setting of concrete, improve workability without impairing strength and durability with about (5 cu.m.) 7730 kg. of 20mm machine crushed stone jelly and with about (3.3 cu.m.) 5156 kg. of 10-12mm machine crushed stone jelly and with about (4.79 cu.m) 7670 kg. of sand, but excluding cost of reinforcement grill and fabricating charges, centering and shuttering and also including laying, vibrating with mechanical vibrators, finishing, curing, etc.\\n\\n1m3 (One cubic metre)\\n\\nSignature of Assistant Commissioner/Executive Officer\\n\\nNo. of Corrections : No. of Over writings :\\n\\nSignature of Contractor\\n\\nAmount\\n\\nRate\\n\\nS. No .\\n\\nT.N.D. S.S. No.',\n",
              " 'Probable Quantity\\n\\nDescription of works\\n\\nUnit\\n\\nIn figures\\n\\nIn words\\n\\nand providing fixtures like fan clamps in the RCC floor/ roof slabs wherever necessary without claiming extra, etc., complete complying with standard specification and as directed by the departmental officers. The coarse and fine aggregates to be used should comply with the requirements of IS standards. (No separate payment will be made by the Department for the excess usage of materials)- Superstructure GF Supplying, fabricating and placing in position of steel reinforcement using MS (or) RTS rods for all RCC item of works including cost of steel and binding wire in all floors etc., complete complying with standard specification and as directed by the departmental officers.\\n\\n10\\n\\n43.00Qtl (Quintal)\\n\\n1Qtl(One Quintal)\\n\\nSignature of Assistant Commissioner/Executive Officer\\n\\nNo. of Corrections : No. of Over writings :\\n\\nSignature of Contractor\\n\\nAmount\\n\\nRate\\n\\nS. No .\\n\\nT.N.D. S.S. No.',\n",
              " 'Probable Quantity\\n\\nUnit\\n\\nDescription of works\\n\\nIn words\\n\\nIn figures\\n\\nSupplying and erecting steel centering including necessary supports for plane surfaces for Reinforced Cement Concrete works such as column footings,Pile caps, column pedestals, plinth beams, grade beams, staircase steps, etc. which require only nominal strutting using mild steel sheets of size 90cm x 60cm and 10 BG stiffened with welded mild steel angles of size 25mm x 25mm x 3 mm for boarding, laid over silver oak joists of size 10cm x 6.5cm spaced at about 75cm centre to centre or at suitable intervals etc. complete in all floors complying with standard specifcation. (Payment for centering shall be given after the concrete is laid) Below GL (Foundation & Grade beam)\\n\\n11\\n\\na. 105.00 m2 (Square metre)\\n\\n1m2 (One Square metre)\\n\\nAmount\\n\\nSignature of Assistant Commissioner/Executive Officer\\n\\nNo. of Corrections : No. of Over writings :\\n\\nSignature of Contractor\\n\\nRate\\n\\nS. No .\\n\\nT.N.D. S.S. No.',\n",
              " 'Probable Quantity\\n\\nDescription of works\\n\\nUnit\\n\\nIn figures\\n\\nIn words\\n\\n1m2 (One Square metre)\\n\\nColumn Pedestal (Column)\\n\\nb. 60.00 m2 (Square metre)\\n\\n1m2 (One Square metre)\\n\\nc.\\n\\n50.00m2 (Square metre)\\n\\nPlane surface – rooms (Beams, Slabs, Lintels)\\n\\n4500.00 Kg (Kilogram)\\n\\n1Kg (One Kilogram)\\n\\n12\\n\\nFabricating, Supplying and fixing roof shed, vertical post, Rafter, purlin -The cost including all material cost, fabrication labour charges, fixing labour charges, conveyance charges etc., complete as directed by department Officers. Brick work in following Cement Mortar 1:5 using best quality II class Ground moulded chamber burnt bricks of size 9\" x 4-3/8\" x 2-3/4\" and basement including curing, etc., complete complying with standard specification – Foundation & Basement\\n\\n25.00m3 (cubic metre)\\n\\n13\\n\\n1m3 (One cubic metre)\\n\\nfor\\n\\nfoundation\\n\\nAmount\\n\\nSignature of Assistant Commissioner/Executive Officer\\n\\nNo. of Corrections : No. of Over writings :\\n\\nSignature of Contractor\\n\\nRate\\n\\nS. No .\\n\\nT.N.D. S.S. No.',\n",
              " 'Probable Quantity\\n\\nDescription of works\\n\\nUnit\\n\\nIn words\\n\\nIn figures\\n\\n14\\n\\n1m3 (One cubic metre)\\n\\n30.00m3 (cubic metre)\\n\\nBrick work in following Cement Mortar 1:6 using best quality II class Ground moulded chamber burnt bricks of size 9\" x 4-3/8\" x 2-3/4\" for foundation and basement including curing, etc., complete complying with standard specification – Superstructure, Groundfloor) Brick partition walls using best quality using Country Bricks of size 8-3/4\" x 4-1/4\" X2-3/4\" in Cement Mortar 1:3 (One Cement and Three crushed stone Sand) using hoop iron reinforcement if found necessary including curing etc. complete and as directed by the departmental officers. (Hoop iron reinforcement will be measured and paid for separately) Ground floor\\n\\n15\\n\\na. 30.00 m2 (Square metre)\\n\\n1m2 (One Square metre)\\n\\nSignature of Assistant Commissioner/Executive Officer\\n\\nNo. of Corrections : No. of Over writings :\\n\\nSignature of Contractor\\n\\nAmount\\n\\nRate\\n\\nS. No .\\n\\nT.N.D. S.S. No.',\n",
              " 'Probable Quantity\\n\\nDescription of works\\n\\nUnit\\n\\nIn figures\\n\\nIn words\\n\\nParapet\\n\\nb. 10.00 m2 (Square metre)\\n\\n1m2 (One Square metre)\\n\\n1m2 (One Square metre)\\n\\nProviding granolithic floor finish of the following thickness with plain cement concrete 1:2:4 (One Cement, Two sand and Four aggregate) using 10 to 12mm gauge hard broken stone jelly including laying, finishing and the top rubbed smooth with power trawl, thread lining, curing etc. complete complying with standard specification and as directed by the departmental officers. (The rate is inclusive of necessary planking for panelling wherever necessary and as directed by the departmental officers) For 25mm thick Supplying, fabrication and erection of Galvalume Colour sheet of size 0.47 mm\\n\\n16 255.00m2 (Square metre)\\n\\n17 165.00 m2 (Square metre)\\n\\n1m2 (One Square metre)\\n\\nSignature of Assistant Commissioner/Executive Officer\\n\\nNo. of Corrections : No. of Over writings :\\n\\nSignature of Contractor\\n\\nAmount\\n\\nRate\\n\\nS. No .\\n\\nT.N.D. S.S. No.\\n\\nProbable Quantity\\n\\nUnit\\n\\nDescription of works',\n",
              " 'In words\\n\\nIn figures\\n\\n1 m (One running metre)\\n\\n40.00 metre (Running metre)\\n\\nProviding and fixing 15cm wide 45cm overall semi circular colour galvanum sheet gutter with iron brackets 40X3mm size, bolts, nuts and washers etc., including making necessary connection with rain water pipes complete. 0.80mm thick with zinc coating not less than 275gm/m2. Supplying and fixing in position best approved of ISI quality of 110 mm dia PVC rain water down fall pipes having a working pressure of 4 kg / sq.cm including cost of necessary PVC shoe, PVC bend, C.I. gratings of required dia. and special clamps, brass screws, nails etc., and fixing of cast iron gratings at juction of parapet and the RCC roof slab including finishing neatly etc., complete. The rate shall be inclusive of cost of removable iron grating. The PVC pipe shall be fixed on wall with special type of clamps. Special type \"U\" clamp at the centre of the pipe line shall be fixed in addition\\n\\n18\\n\\n19\\n\\n1 m (One running metre)\\n\\n30.00 metre (Running metre)\\n\\nSignature of Assistant Commissioner/Executive Officer\\n\\nNo. of Corrections : No. of Over writings :\\n\\nSignature of Contractor\\n\\nAmount\\n\\nRate\\n\\nS. No .\\n\\nT.N.D. S.S. No.',\n",
              " 'Probable Quantity\\n\\nUnit\\n\\nDescription of works\\n\\nIn words\\n\\nIn figures\\n\\nto those for more than 3.0M pipe length complying with standard specification.\\n\\n20\\n\\nSupplying and fixing in position PVC specials of the following dia and types of approved quality confirming to BIS and providing leak proof joints including fixing to the walls and giving connection to the PVC soil stacks, dismantling the masonry or RCC works and re- doing the dismantled portion to original condition etc., complete complying with standard specifications. (The PVC specials should be got approved by the Executive Engineer before use on works). 110 mm dia PVC elbow\\n\\na. 16.00 nos. (Number)\\n\\n1No. (One Number)\\n\\nAmount\\n\\nSignature of Assistant Commissioner/Executive Officer\\n\\nNo. of Corrections : No. of Over writings :\\n\\nSignature of Contractor',\n",
              " 'Rate\\n\\nS. No .\\n\\nT.N.D. S.S. No.\\n\\nProbable Quantity\\n\\nDescription of works\\n\\nUnit\\n\\nIn figures\\n\\nIn words\\n\\n110 mm dia PVC Tee\\n\\nb. 5.00 nos. (Number)\\n\\n1No. (One Number)\\n\\n21 400.00 m2 (Square metre)\\n\\nPlastering with cement mortar 1:5 (one cement and five sand) 12mm thick in all floors using fine river sand including neat finishing, curing, etc., complete complying with standard specification and as directed by the department officers. Painting two coats over newly plastered wall surface with Water based Interior/ Exterior emulsion paint of first class quality and of approved colour over a priming coat including thorough scrapping, clean removal of dirt, and including necessary plaster of paris putty, wherever required etc., complete complying with standard specification. EXTERIOR\\n\\n1m2 (One Square metre)\\n\\n22 250.00 m2 (Square metre)\\n\\n1m2 (One Square metre)\\n\\nAmount\\n\\nSignature of Assistant Commissioner/Executive Officer\\n\\nNo. of Corrections : No. of Over writings :\\n\\nSignature of Contractor\\n\\nRate\\n\\nS. No .\\n\\nT.N.D. S.S. No.',\n",
              " 'Probable Quantity\\n\\nDescription of works\\n\\nUnit\\n\\nIn figures\\n\\nIn words\\n\\n26.00 m2 (Square metre)\\n\\nSpecial ceiling plastering and finishing the exposed surface of all RCC items of work such as slabs, beams, sunshades, facia, canopy slab, staircase waist slab, landing slab etc., with Cement Mortar 1:3 (One Cement and Three Sand) 10mm thick including hacking the surfaces, providing cement mortar nosing, beading for sunshades, staircases, steps, landing slabs and curing, etc., in all floors complying with standard specification and as directed by the departmental officers Supplying and painting the walls with two coats of cement paint over one coat of cement primer as instructed by the departmental officers including preparation of surface curing, etc., complete in all floors complying with standard specifications (The colour and shade of the cement paint shall be got approved by the Executive Engineer before use of work).\\n\\n23\\n\\n1m2 (One Square metre)\\n\\n1m2 (One Square metre)\\n\\n24\\n\\n26.00 m2 (Square metre)\\n\\nAmount\\n\\nSignature of Assistant Commissioner/Executive Officer\\n\\nNo. of Corrections : No. of Over writings :\\n\\nSignature of Contractor\\n\\nRate\\n\\nS. No .\\n\\nT.N.D. S.S. No.\\n\\nProbable Quantity',\n",
              " 'Description of works\\n\\nUnit\\n\\nIn figures\\n\\nIn words\\n\\nWeathering course in brick jelly lime concrete using broken brick jelly of size 20mm uniform gauge in pure slaked lime (no sand to be used) to the proportion of brick jelly to lime being 32:12.5 by volume and laid over the RCC roof slab in a single layer of required slope and finished by beating the concrete with wooden beaters of approved pattern, keeping the surface constantly wet by sprinkling lime jaggery water, etc., complete as per standard specification and as directed by the deparmental officers. Finishing the top of roof with one course of machine pressed tiles following size of size of approved quality set in Cement Mortar 1:3 (One Cement and Three Sand) 12mm thick mixed with water proofing compound conforming to ISS at 2% by weight of cement used and the joints pointed neatly to full depth of tiles with the same cement mortar mixed with red\\n\\n1m3 (One cubic metre)\\n\\n25\\n\\n1.80m3 (cubic metre)\\n\\n25.00 m2 (Square metre)\\n\\n26\\n\\n1m2 (One Square metre)\\n\\nSignature of Assistant Commissioner/Executive Officer\\n\\nNo. of Corrections : No. of Over writings :\\n\\nSignature of Contractor\\n\\nAmount\\n\\nRate',\n",
              " 'S. No .\\n\\nT.N.D. S.S. No.\\n\\nProbable Quantity\\n\\nDescription of works\\n\\nUnit\\n\\nIn figures\\n\\nIn words\\n\\noxide and water proofing compound including curing etc., complete complying with standard specification and as directed by the departmental officers-Pressed Tiles of 230mm x 230mm x 20mm Supplying and fixing of M.S. grill for gate including priming coat and cost and conveyance of all materials and labour charges etc complete Painting new iron works such as steel doors, windows, ventilators, window bars, balustrades etc., with two coats of best approved first quality and colour of synthetic enamel paint over one coat of zinc cromite priming coat in all floors including cost of priming coat etc., complete complying with standard specification. (The make, quality and colour of paint should be got approved by the Executive Engineer before use on works.)\\n\\n27 520.00 Kg (Kilogram)\\n\\n1 Kg (One Kilogram)\\n\\n40.00 m2 (Square metre)\\n\\n28\\n\\n1m2 (One Square metre)\\n\\nAmount\\n\\nSignature of Assistant Commissioner/Executive Officer\\n\\nNo. of Corrections : No. of Over writings :\\n\\nSignature of Contractor\\n\\nRate\\n\\nS. No .\\n\\nT.N.D. S.S. No.\\n\\nProbable Quantity',\n",
              " 'Description of works\\n\\nUnit\\n\\nIn words\\n\\nIn figures\\n\\n1m2 (One Square metre)\\n\\n29 100.00 m2 (Square metre)\\n\\nPainting new iron works such as steel doors, windows, ventilators, window bars, balustrades etc., with two coats of best approved first quality and colour of synthetic enamel paint over one coat of Zinc cromite priming coat in all floors including cost of priming coat etc., complete complying with standard specification. (The make, quality and colour of paint should be got approved by the Executive Engineer before use on works.) Supplying and fixing in position best quality PVC soil / waste pipes of various dia having 6 kg / sq.cm. pressure BIS mark and providing leak proof joints using PVC adhesives including fixing to the wall with special PVC / MS clamp, teak wood plugs, brass screws, etc., and making connection to all sanitary fittings, dismantling masonry / RCC works wherever found necessary and making the good dismantled portion to the\\n\\n30\\n\\nAmount\\n\\nSignature of Assistant Commissioner/Executive Officer\\n\\nNo. of Corrections : No. of Over writings :\\n\\nSignature of Contractor\\n\\nRate',\n",
              " 'S. No .\\n\\nT.N.D. S.S. No.\\n\\nProbable Quantity\\n\\nDescription of works\\n\\nUnit\\n\\nIn figures\\n\\nIn words\\n\\noriginal condition, including testing for any leakages, etc., complete complying with standard specifications. (The PVC pipes should be got approved by the Executive Engineer before use on works). The rate for earth work excavation will be measured and paid separately in the cases where the pipe lines are proposed to laid below ground level 110 mm dia PVC soil/ waste pipe\\n\\n70.00 metre (Running metre)\\n\\n1 m (One running metre)\\n\\nConstruction of Inspection chamber for clear of size 450x450mm to total height of 900mm (ie)200mm above ground level, 700mm below ground level with a base concrete of 100mm thick 1:5:10, over sand cushion of 100mm thick, the chamber should be constructed in brick masonry 230mm thick CM1:5, with stock bricks of size 8-3/4\" x 4-1/4\" x 2-\\n\\n1No. (One Number)\\n\\n31\\n\\n2.00 nos. (Number)\\n\\nAmount\\n\\nSignature of Assistant Commissioner/Executive Officer\\n\\nNo. of Corrections : No. of Over writings :\\n\\nSignature of Contractor',\n",
              " 'Rate\\n\\nS. No .\\n\\nT.N.D. S.S. No.\\n\\nProbable Quantity\\n\\nDescription of works\\n\\nUnit\\n\\nIn figures\\n\\nIn words\\n\\n1/4\". The inner side of chamber plastering cement mortar 1:3,20mm thick the outer chamber of wall to a depth of 600mm plastered in CM 1:5,12mm thick. The chamber top covered with SRF cover slab 100mm thick. The rate is including the cost of materials labour etc, complete. Solid PVC Door Shutters using 19 Gauge 19mm MSsquare tubes for styles and outer frames. 15mm MS square tubes for top, lock and bottom rails. The steel tubes shall be covered with 5mm thick solid PVC Sheets. Shutter using 5mm thick solid PVC Sheets for panelling shall rigidly fixed in position including necessary furniture and fittings. The over all size of styles shall be 50mm x 30mm. The over all size of top rail, lock rail and bottom rail shall be 75mm x 30mm.The over all size of frames shall be 50mm x 45mm with suitable rabate for housing\\n\\n32\\n\\n1.70 m2 (Square metre)\\n\\n1m2 (One Square metre)\\n\\nAmount\\n\\nSignature of Assistant Commissioner/Executive Officer\\n\\nNo. of Corrections : No. of Over writings :\\n\\nSignature of Contractor\\n\\nRate\\n\\nS. No .\\n\\nT.N.D. S.S. No.',\n",
              " 'Probable Quantity\\n\\nDescription of works\\n\\nUnit\\n\\nIn figures\\n\\nIn words\\n\\nthe shutter\\n\\n1.00 no. (Number)\\n\\nSupplying and fixing in positon Indian Water Closet (Oriya type) of size 580 x 440mm white glazed earthern ware of approved quality and brand with \"P\" or \"S\" trap conforming to BIS with crushed stone sandcushion and forming flooring alround the closet using 40mm broken brick jelly in lime concrete 1:2:5 (One lime, Two crushed stone sandand Five brick jelly) 100mm thick and finishing the top to the required slope and including giving necessary connection to PVC pipes (including the cost of 110mm dia PVC pipe for a length of 600mm) by dismantling brick masonry wall / reinforced cement concrete roof / floor slab and making good the dismantled portion to the original condition with leakages etc.,\\n\\n1No. (One Number)\\n\\n33\\n\\nAmount\\n\\nSignature of Assistant Commissioner/Executive Officer\\n\\nNo. of Corrections : No. of Over writings :\\n\\nSignature of Contractor\\n\\nRate\\n\\nS. No .\\n\\nT.N.D. S.S. No.',\n",
              " 'Probable Quantity\\n\\nDescription of works\\n\\nUnit\\n\\nIn figures\\n\\nIn words\\n\\ncomplete complying with standard specifications and as directed by the departmental officers. (The water closet should be got approved by the Executive Engineer before use on works). Supplying and fixing position CI Nahani Trap / Floor Trap of the following sizes with best stainless steel gratings of approved brand and quality, fixed over a bed of brick jelly lime concrete 1:2:5 (One part of lime, two part of sand and five part of 40mm gauge brick jelly) and finished with Cement Mortar 1:3 (One Cement, Three sand) including dismantling masonry works wherever found necessary and making good the dismantled portions to the original condition and giving connection to the CI / PVC pipes, etc., complete complying with standard specification. (The Nahani Trap should be got approved by the Executive Engineer before use on works)\\n\\n34\\n\\n1.00 no. (Number)\\n\\n1No. (One Number)\\n\\nAmount\\n\\nSignature of Assistant Commissioner/Executive Officer\\n\\nNo. of Corrections : No. of Over writings :\\n\\nSignature of Contractor\\n\\nRate\\n\\nS. No .\\n\\nT.N.D. S.S. No.',\n",
              " 'Probable Quantity\\n\\nDescription of works\\n\\nUnit\\n\\nIn figures\\n\\nIn words\\n\\nManufacturing, supplying and fixing Precast Reinforced Cement Concrete slabs 50mm thick in RCC 1:2:4 (one cement, two crushed stone sand and four aggregates), using following HBGS jelly excluding cost of reinforcement steel in position but including cost of moulding charges, casting of slab, finishing, curing and fixing in position in all floors etc., complete complying with standard specification and as directed. Manufacturing, supplying and fixing in positon of RCC Jally of 5cm thick in cement concrete 1:2:4 using 20mm machine crushed stone jelly (excluding cost of reinforcement steel) including cost of mould, finishing, curing, lifting, fixing in position etc., complete complying with standard specification and as directed\\n\\n35\\n\\n1m2 (One Square metre)\\n\\n0.72 m2 (Square metre)\\n\\n0.30 m2 (Square metre)\\n\\n1m2 (One Square metre)\\n\\n36\\n\\nAmount\\n\\nSignature of Assistant Commissioner/Executive Officer\\n\\nNo. of Corrections : No. of Over writings :\\n\\nSignature of Contractor\\n\\nRate\\n\\nS. No .\\n\\nT.N.D. S.S. No.',\n",
              " 'Probable Quantity\\n\\nDescription of works\\n\\nUnit\\n\\nIn figures\\n\\nIn words\\n\\n37 320.00 Kg (Kilogram)\\n\\nProviding and fixing MS railing made of hollow tubes, channels,plates etc., including welding, grinding, buffing and making curvature (wherever required) and fitting the same with necessary MS nuts and bolts etc., complete. Rate shall include for providing MS base cups, making pockets in existing RC/ Masonary surfaces, fixing MS plate 12mm thick with 4 nos of M10 anchor fasterners, MS caps for anchor bots and grouting the pockets with CC 1:2:4 and make the surface to the original position, necessary tools and plants, Welding with conumables and buffing charges, one coat of primer and two coats of synthetic enamel paint etc.,complete. Working at all levels and heights and as directed by departmental officers.\\n\\n1 Kg (One Kilogram)\\n\\nAmount\\n\\nSignature of Assistant Commissioner/Executive Officer\\n\\nNo. of Corrections : No. of Over writings :\\n\\nSignature of Contractor\\n\\nRate\\n\\nS. No .\\n\\nT.N.D. S.S. No.',\n",
              " 'Probable Quantity\\n\\nDescription of works\\n\\nUnit\\n\\nIn figures\\n\\nIn words\\n\\n38\\n\\nBrick masonry Combination Mortor1:1:4 using Chamber Burnt Bricks II Class(Ground Moulded) 9\" x 4 3/8\" x 2 3/4\" including all varivargams, moulds, sthambams, mukapathrams, koodu, nasi and all ornamental brick work complete, all pancharams, agarais, karnakoodus, etc., forming core walls of Rajagopuram/ Vimanams complete including cost and conveyance of all materials including cement, all the labour charges including marking pathies shaping of the bricks, lifting of all the materials to required heights, curing and all extra for working in heights etc., complete 100 cft for vimanam / gopuram. The lime used should be sourced from Pollachi which is highly iron fortified and suitable for structural and masonry works.\\n\\nAmount\\n\\nSignature of Assistant Commissioner/Executive Officer\\n\\nNo. of Corrections : No. of Over writings :\\n\\nSignature of Contractor\\n\\nRate\\n\\nS. No .\\n\\nT.N.D. S.S. No.',\n",
              " \"Probable Quantity\\n\\nUnit\\n\\nDescription of works\\n\\nIn figures\\n\\nIn words\\n\\nUpto 15' ht.\\n\\n1m3 (One cubic metre)\\n\\n2.00 m3 (cubic metre)\\n\\nProviding Vargapoochu over the varivarghamsetc with Combination Mortor1:1:4 complete including shaping the mukhapathram, mahanasi, Koodu all ornamentals works to proper shape by embedding broken bricks of shaped/chiseled bricks, rough-plastering with Combination Mortor1:1:4 and finishing with final ornamental plastering and nayamtheervani including cost and conveyance of all materials, labour therefore, lifting of materials, all working in heights, curing with water etc, complete including all extra for folding and including clearing from the vimanams/gopurams 100sft superficial area. for kalkaram The lime used should be sourced from Pollachi which is\\n\\n39\\n\\nSignature of Assistant Commissioner/Executive Officer\\n\\nNo. of Corrections : No. of Over writings :\\n\\nSignature of Contractor\\n\\nAmount\\n\\nRate\",\n",
              " \"S. No .\\n\\nT.N.D. S.S. No.\\n\\nProbable Quantity\\n\\nDescription of works\\n\\nUnit\\n\\nIn figures\\n\\nIn words\\n\\nhighly iron fortified and suitable for structural and masonry works.\\n\\nUpto 15' ht.\\n\\n1m2 (One Square metre)\\n\\n8.00 m2 (Square metre)\\n\\nAmount\\n\\nCONSTRUCTION OF COMPOUND WALL\",\n",
              " '1\\n\\n15.00 m3 (Cubicmetr e)\\n\\nEarth work excavation for foundation in all soils and sub- soils and to full depth except in rock requiring blasting inclusive of shoring shuttering, bailing out water wherever necessary and depositing the surplus earth with an initial lead of 10 mts and initial lift of 2 mts. and clearing and levelling the site, etc., complete complying with standard specification as per SS20B\\n\\n1m3 (One cubic metre)\\n\\nSignature of Assistant Commissioner/Executive Officer\\n\\nNo. of Corrections : No. of Over writings :\\n\\nSignature of Contractor\\n\\nRate\\n\\nS. No .\\n\\nT.N.D. S.S. No.\\n\\nProbable Quantity\\n\\nUnit\\n\\nDescription of works',\n",
              " 'In words\\n\\nIn figures\\n\\n1m3 (One cubic metre)\\n\\nPlain Cement Concrete 1:5:10 (One Cement, Five sand and Ten hard broken stone jelly) using 40 mm gauge hard broken granite stone jelly for foundation including dewatering wherever necessary and laid in layers of not more than 15 cm thick well rammed, consolidated and curing etc. complete complying with standard specification\\n\\n2\\n\\n2.60 m3 (Cubicmetr e)\\n\\nProviding and laying in position, Standardised Concrete Mix M-20 Grade in accordance with IS:456- 2000, using 20mm and down graded hard broken granite stone jelly for all RCC items of works with minimum cement content of 325 kg/mᶾ and maximum water cement ratio of 0.55, including admixture (plasticiser / super plasticiser) in recommended proportions as per IS:9103 to accelerate, retard setting of concrete, improve workability without impairing strength and\\n\\n3\\n\\nAmount\\n\\nSignature of Assistant Commissioner/Executive Officer\\n\\nNo. of Corrections : No. of Over writings :\\n\\nSignature of Contractor\\n\\nRate\\n\\nS. No .\\n\\nT.N.D. S.S. No.',\n",
              " 'Probable Quantity\\n\\nDescription of works\\n\\nUnit\\n\\nIn figures\\n\\nIn words\\n\\ndurability with about (5 cu.m.) 7730 kg. of 20mm machine crushed stone jelly and with about (3.3 cu.m.) 5156 kg. of 10-12mm machine crushed stone jelly and with about (4.79 cu.m.) 7670 kg. of sand, but excluding cost of reinforcement grill and fabricating charges, centering and shuttering and also including laying, vibrating with mechanical vibrators, finishing, curing, etc. and providing fixtures like fan clamps in the RCC floor/ roof slabs wherever necessary without claiming extra, etc., complete complying with standard specification and as directed by the departmental officers. The coarse and fine aggregates to be used should comply with the requirements of IS Standards. (No separate payment will be made by the Department for the excess usage of materials).\\n\\nAmount\\n\\nSignature of Assistant Commissioner/Executive Officer\\n\\nNo. of Corrections : No. of Over writings :\\n\\nSignature of Contractor\\n\\nRate\\n\\nT.N.D. S.S. No.\\n\\nS. No .',\n",
              " 'Probable Quantity\\n\\nUnit\\n\\nDescription of works\\n\\nIn figures\\n\\nIn words\\n\\nUpto basement\\n\\n1m3 (One cubic metre)\\n\\na.\\n\\n8.00m3 (Cubicmetr e)\\n\\n1m3 (One cubic metre)\\n\\nAbove basement\\n\\n2.00m3 (Cubicmetr e)\\n\\nb.\\n\\nSupplying and erecting centering the soffits of all reinforcement cement concrete surfaces M.S.Sheets of 90 x 60cm x 10 gauge stiffened with welded M.S angle of size 25x25x3mm laid over silver oak joints of size 10cm x 6.50cm spaced at about 90cm centre to centre and supported by casuarina props of 10cm to 13 cm dia spaced at 75cm centre to centre complying with standard specification\\n\\n4\\n\\nAmount\\n\\nSignature of Assistant Commissioner/Executive Officer\\n\\nNo. of Corrections : No. of Over writings :\\n\\nSignature of Contractor\\n\\nRate\\n\\nS. No .\\n\\nT.N.D. S.S. No.\\n\\nProbable Quantity',\n",
              " 'Unit\\n\\nDescription of works\\n\\nIn words\\n\\nIn figures\\n\\n1m2 (One Square metre)\\n\\nFoundation and Grade beam\\n\\na. 38.00 m2 (Square metre)\\n\\nColumn\\n\\n1m2 (One Square metre)\\n\\nb. 55.00 m2 (Square metre)\\n\\n10.40 Qtl (Quintal)\\n\\nSupplying, fabricating and placing in position of M.S or RTS grill for reinforcement of all R.C.C. works including cost of steel and binding wire etc., complete complying with standard specification.\\n\\n1Qtl(One Quintal)\\n\\n5\\n\\nBrick partition walls using best quality using Country Bricks of size 8-3/4\" x 4-1/4\" X2-3/4\" in Cement Mortar 1:3 (One Cement and Three crushed stone Sand) using hoop iron reinforcement if found necessary including curing etc. complete and as directed by the departmental officers. (Hoop iron reinforcement will be measured and paid for separately)\\n\\n6\\n\\nSignature of Assistant Commissioner/Executive Officer\\n\\nNo. of Corrections : No. of Over writings :\\n\\nSignature of Contractor\\n\\nAmount\\n\\nRate\\n\\nS. No .\\n\\nT.N.D. S.S. No.',\n",
              " 'Probable Quantity\\n\\nDescription of works\\n\\nUnit\\n\\nIn figures\\n\\nIn words\\n\\na. 55.00 m2 (Square metre)\\n\\nUpto basement\\n\\n1m2 (One Square metre)\\n\\nAbove basement\\n\\n1m2 (One Square metre)\\n\\nb. 95.00 m2 (Square metre)\\n\\n7\\n\\n340.00 m2 (Square metre)\\n\\n1m2 (One Square metre)\\n\\nPlastering with Cement Mortar 1:5 (One cement and Five sand), 12mm thick in all floors including curing etc. complete complying with standard specification\\n\\n340.00 m2 (Square metre)\\n\\n8\\n\\n1m2 (One Square metre)\\n\\nSupplying and painting the walls with two coats of cement paint over one coat of cement primer as instructed by the departmental officers including preparation of surface curing, etc., complete in all floors complying with standard specifications (The colour and shade of the cement paint shall be\\n\\nAmount\\n\\nSignature of Assistant Commissioner/Executive Officer\\n\\nNo. of Corrections : No. of Over writings :\\n\\nSignature of Contractor',\n",
              " 'Rate\\n\\nS. No .\\n\\nT.N.D. S.S. No.\\n\\nProbable Quantity\\n\\nDescription of works\\n\\nUnit\\n\\nIn figures\\n\\nIn words\\n\\ngot approved by the Executive Engineer before use of work).\\n\\nTOTAL\\n\\nGST AT 18%\\n\\nGRAND TOTAL\\n\\nAmount\\n\\nNote: The Tenderer shall quote the basic rate inclusive of all labour charges etc., other than GST, hire charges for\\n\\nmachineries and all other tools& plants involved for loading and Unloading process, proper safety measures to be adopted to avoid breakage / damage / Cracking of existing structural members. The basic rate shall be excluding GST.\\n\\nSignature of Assistant Commissioner/Executive Officer\\n\\nNo. of Corrections : No. of Over writings :\\n\\nSignature of Contractor\\n\\nARULMIGU ARTHANAREESWARAR TEMPLE\\n\\nTIRUCHENGODE TOWN AND TALUK,NAMAKKAL DISTRICT\\n\\nName of the work:CONSTRUCTION OF PASUMADAMFOR ARULMIGU\\n\\nARTHANAREESWARAR TEMPLE,TIRUCHENGODE\\n\\nTOWN AND TALUK,NAMAKKAL DISTRICT.\\n\\nTENDER SCHEDULE FORM: B\\n\\nRATE OF PROGRESS',\n",
              " 'Sl. No.\\n\\nPortion of work completed\\n\\nTime for completion\\n\\n1.\\n\\n20% of work completed\\n\\n30 days\\n\\n2.\\n\\n40% of work completed\\n\\n60 days\\n\\n3.\\n\\n60% of work completed\\n\\n90days\\n\\n4.\\n\\n80% of work completed\\n\\n120 days\\n\\n5.\\n\\n100% of work completed\\n\\n180days\\n\\nSignature of Assistant Commissioner/ Executive Officer\\n\\nSignature of Contractor\\n\\nSCHEDULE: C\\n\\n1. ELIGIBILITY CRITERIA:\\n\\nThe Applicant should be a Registered Contractor in Tamil Nadu Government/Government Institutions in the category of Class V and above as per G.O.(Ms) No.37 Public Works (G2) Department, dated:17.06.2022 with Live certificate for the year 2022-23, with proven track record are eligible.\\n\\n2. The Applicant should produce „SARAL‟ as produced to Income Tax Department for the Current year and copy of GST Clearance Certificate & GST Registration Number Details.\\n\\nEvidence to be Produced (Supporting Documents)\\n\\n(i) Contractor Registration Certificate\\n\\n(ii) Contractor Live certificate\\n\\n(iii)PAN registration details\\n\\n(iv) Attested Copy of Registration Certificate showing the TNGST / C.S.T. Number assigned by the Commercial Tax Department issued by the Competent State/ Central Commercial Tax Department Officials\\n\\n(v) Live Certificate for GST (Form GSTR – 3B)\\n\\n(vi) Income Tax returns (for 5 years)\\n\\n(vii) Loss and Profit statement from Auditor\\n\\n(viii) Turn over certificate from Auditor (for 5 years) – (150 % of Tender Value)\\n\\n(ix) Work experience certificate – (50 % of Tender Value)\\n\\n(x) Mechanical Equipment certificate\\n\\n(xi) Technical person employment certificate\\n\\n(xii) Working capital (Bank account statement for previous 3 months)\\n\\n– (10% of Tender Value)\\n\\n(xiii) Affidavit(To be furnished in a Hundred Rupees Non Judicial stamp paper duly certified by Notary Public)\\n\\n(xiv) Undertaking(To be furnished in a Hundred Rupees Non Judicial stamp paper duly certified by Notary Public)\\n\\n(xv) Declaration certificate\\n\\nSignature of Assistant Commissioner/ Executive Officer\\n\\nSignature of Contractor\\n\\n3. EARNEST MONEY DEPOSIT (EMD)\\n\\n(i) Each Tender must be accompanied by a deposit of Rs.30,000/- (Rupees Thirty thousand only) as Earnest Money Deposit by a demand draft drawn in favour of “the Assistant Commissioner/Executive Officer, ArulmiguArthanareeswarar temple, payable at Tiruchengode.\\n\\n(ii) The E.M.D will also be accepted in the form of state government securities or National Savings Certificate or Small Savings Deposit certificates or MR or Bank term deposit duly pledged in favour of the Assistant Commissioner/Executive Officer,ArulmiguArthanareeswarar temple, TiruchengodeTown and Taluk, Namakkal District.\\n\\n(iii) Bank Guarantee will not be accepted',\n",
              " '4. SECURITY DEPOSIT:\\n\\nThe successful Bidder shall furnish a Security Deposit in the shape of\\n\\nDemand Draft drawn in favour of the Assistant Commissioner/Executive Officer, ArulmiguArthanareeswarartemple payable at TiruchengodeorState government securities or National Savings Certificate or Small Savings Deposit certificates or MR or Bank term deposit duly pledged in favour of the Assistant Commissioner/Executive Officer, ArulmiguArthanareeswarar temple, TiruchengodeTown & Taluk, Namakkal Districtfor an amount equivalent to 2% of the contract value (which includes Earnest Money Deposit already paid) within 15 days from the date of letter of acceptance. If the successful Bidder fails to execute the contract (i.e. sign the agreement) within the aforesaid 15 days‟ time from the date of letter of acceptance, the Earnest Money Deposit amount remitted with the tender will be\\n\\nforfeited.\\n\\n5. RETENTION AMOUNT\\n\\nIn addition to the aforesaid security deposit, retention amount shall be deducted from the running account bills, a sum equivalent to 5% (Five Percent) of the total value of each bill as retention money.\\n\\nSignature of Assistant Commissioner/ Executive Officer\\n\\nSignature of Contractor\\n\\n6. The applicant shall employ required number of Site Engineers with\\n\\nfield experience and list of personals proposed to be employed for this works should be enclosed by the Tenderer.\\n\\n7. The tenderer, on his / her own responsibility, risk and cost, is advised to visit and examine the temple at Tiruchengode Town and Taluk, Namakkal District.\\n\\n8. Any other conditions stipulated in Tamil Nadu Transparency in Tenders Act 1998 and Tender Rules 2000, Tamil Nadu Building Practice Codes and Hindu Religious and Charitable Endowment Department, relevant to this contract shall be applicable.\\n\\nSPECIAL CONDITIONS\\n\\n1. Motors, gearing, transmission, electric wiring and other dangerous part of hoisting appliances shall be provided with efficient safe guards.\\n\\n2. The work should be carried out as per instructions of the departmental Engineers from time to time, as per T.N.B.P.S.S. (Tamil Nadu Building Practice Standard Specifications) and National Building Code and specification of those item pertaining to the temple.\\n\\n3. The rate should be inclusive of all leads and lifts for materials and\\n\\nwater etc. The tenderer should make his own arrangements for watering.\\n\\n4. The contractor should inspect the site and plan and satisfy himself before quoting rates.\\n\\n5. The contractor shall make his own arrangements for the chain\\n\\npulley block (7 tonnes lifting capacity) including from chains etc. Complete and no extra payment will be made on account of this.\\n\\n6. Excess issue of materials shall be calculated by deducting the theoretical requirements for the actual quantity of work done based on standard data from the quantity of material actually issued for the work. Variation upto 5% of theoretical requirements depending upon the nature of work can be allowed. Recovery for any excess\\n\\nSignature of Assistant Commissioner/ Executive Officer\\n\\nSignature of Contractor\\n\\nconsumption over this permissible limit will be at double the issue, rate, if any material issued to the contractor by the temple.\\n\\n7. Royalty charges due for use of private quarries and private land shall be paid by the contractor.\\n\\n8. If night work is required to fulfill the agreed rate of progress, all\\n\\narrangements shall be made by the contractor, inclusive of lighting without any claim for extra rates.\\n\\n9. The contractor shall abide by the contractor‟s labour regulations of\\n\\nthe public works and risks against fire and other accidents framed by the Tamil Nadu Government.\\n\\n10. Regarding the mode of measurements, maintenance of quantity\\n\\nuses of materials, period of curing etc., the decision of the Departmental Officers will be final.\\n\\n11. The contractor has to make his own arrangements to procure the tools and plants and charcoal required for the work and the charcoal requirement for sharpening the chisel will not',\n",
              " ' be paid to the contractor.',\n",
              " '12. The contractor will be penalized if the work will be delayed in\\n\\nprogress. The amount will be decided by the Assistant Commissioner/Executive Officer.\\n\\nSignature of Assistant Commissioner/ Executive Officer\\n\\nSignature of Contractor\\n\\nSAFETY PROVISION\\n\\nPART – I\\n\\n1. Suitable scaffolds shall be provided for workmen for all work that cannot be safely done from ladder or by other means.\\n\\n2. Scaffolds shall not be contracted taken down or subsequently altered except.\\n\\na). Under the supervision of the competent and responsible persons,\\n\\nand\\n\\nb). By competent workers possessing adequate experience in this kind of work.\\n\\n3. Scaffolds shall be so constructed that no part thereof can be displaced in consequent of normal use.\\n\\n4. Scaffolds shall not be unevenly loaded and as far as practicable shall be evenly loaded.\\n\\n5. Before installing lifting gear on scaffolds special precautions shall be taken to ensure the strength and stability of the scaffolds.\\n\\n6. Scaffolds shall be periodically Inspected by a competent person.\\n\\n7. Before allowing a scaffold to be used by his workmen, every employer shall verify whether the scaffold has been executed properly or not, so as to ensure that it functions according to the requirements of this article.\\n\\n8. Group insurance for the labourers shall be made to ensure safety of\\n\\nthe workers.\\n\\nARTICLE – II\\n\\n1. Working platforms, gateways and straight ways shall be so constructed that no part thereof can be unduly unequal.\\n\\n2. To be constructed and maintained to obviate from risk of persons tripling or slipping and so be kept free from any unnecessary\\n\\nobstruction.\\n\\nSignature of Assistant Commissioner/ Executive Officer\\n\\nSignature of Contractor\\n\\n3. Every working platform, gateway working place and straight way shall be suitably placed.\\n\\nARTICLE – III\\n\\n1. Every opening in the floor of building or in a working platform shall except for the time and to the extent required to allow the excess of persons or the transport or shifting of materials be provided with suitable means to prevent accidents.\\n\\n2. When persons are employed on a roof where there is danger of falling from height exceeding them to be prescribed by material laws and regulations, suitable precautions should be taken to prevent the fall of persons and of materials.\\n\\n3. Suitable precautions shall be taken to prevent persons being struck by articles, which might fall from scaffolds or other working places.',\n",
              " 'ARTICLE – IV\\n\\n1. Safe means of access shall be provided to all working platform and other working places.\\n\\n2. Every ladder shall be securely fixed and of such length as to provide secure handhold and foothold at every position at which issued.\\n\\n3. Every place where work is carried out and the means of approach there to shall be adequately lighted.\\n\\n4. Adequate precautions shall be taken to prevent danger from electrical equipment.\\n\\n5. No matter in the site shall be so attached or placed as to cause danger to any person.\\n\\nSignature of Assistant Commissioner/ Executive Officer\\n\\nSignature of Contractor\\n\\nPART – II\\n\\nGENERAL RULES AS TO HOISTING APPLIANCES\\n\\nARTICLE – V\\n\\n1. Hoisting machines and tools including their attachment encourage\\n\\nand supports shall\\n\\na. be of good mechanical construction and of sound material and adequate strength and free from patent defect, and b. be kept good repair and in good working order.\\n\\n2. Every rope used‟ in hoisting or lowering of materials or as a means\\n\\nof suspension shall be of a suitable quantity and adequate strength and free from patent defects.\\n\\nARTICLE – VI\\n\\n1. Hoisting machines and tools shall be examined and adequately tested after erection on the site, and before use and be re-examined in position at such intervals to be prescribed by National Law and Regulations.\\n\\n2. Every chain ring, hook shackle, swivel and pulley block used in\\n\\nhoisting or lowering materials or as a means of suspension shall be periodically examined.\\n\\nARTICLE – VII\\n\\n1. Every crane driver and of hoisting appliance operator shall be properly qualified.\\n\\n2. No person under the age to be prescribed by national laws, and regulations shall be in control of any hoisting machine including any scaffold or give signal or give signal to the operator.\\n\\nSignature of Assistant Commissioner/ Executive Officer\\n\\nSignature of Contractor\\n\\nARTICLE – VIII\\n\\n1. In the case of every hoisting machine and every chain ring, hook shackle, swivel and pulley block used hoisting, or lowering or as a means of suspension, the safe working load shall be ascertained by adequate means.\\n\\n2. Every hoisting machine and all gears referred to in the proceeding paragraphs shall be plainly marked with the safe working load.\\n\\n3. In the case of hoisting machine having a variable safe working load,\\n\\neach safe working load and condition under which it is applicable shall be clearly indicated.\\n\\n4. No part of any hoisting machine of any gear referred to in paragraph\\n\\n1 of this article shall be loaded beyond the safe working load except for the purpose of testing.',\n",
              " 'ARTICLE – IX\\n\\n1. Motors, gearing, transmission, electric wiring and other dangerous part of hoisting appliances shall be provided with efficient safe guards.\\n\\n2. Hoisting appliances shall be provided with such means as will reduce the risk of accidental descent of the land.\\n\\n3. Adequate precautions shall be taken to reduce the risk of any part suspended land becoming accidentally displaced.\\n\\nPART - III\\n\\n(GENERAL RULES TO SAFETY EQUIPMENTS AND FIRST AID) ARTICLE – XI\\n\\n1. All necessary personal safety equipment shall be kept available for\\n\\nthe use of the persons employed on the site and be maintained in a condition suitable for immediate use.\\n\\n2. The new workers shall be required to use the equipment provided and the employer shall take adequate steps to ensure proper use of the equipment by those concerned.\\n\\nSignature of Assistant Commissioner/ Executive Officer\\n\\nSignature of Contractor\\n\\nARTICLE – XI\\n\\nWhen the work is carried on in proximity to any place where there is a risk of danger all necessary equipment will be provided and kept ready for use and all necessary steps shall be taken for the prompt rescue of any person in danger.\\n\\nARTICLE – XII\\n\\nAdequate provision shall be made from prompt first-aid treatment of all injuries likely to be sustained during the cause of the work.\\n\\nARTICLE – XIII\\n\\nWhere large work places are situated in cities, town or in their sub\\n\\nurban and no beds are considered necessary owing to the proximity of city or town hospital suitable transport shall be provided to facilitate removal of urgent cases to hospital and some conveyance such as Car shall be kept ready to take injured person or persons suddenly taken seriously ill\\n\\nto the nearest hospital.\\n\\nSignature of Assistant Commissioner/ Executive Officer\\n\\nSignature of Contractor\\n\\nSCHEDULE: D\\n\\nAFFIDAVIT\\n\\n(To be furnished in a Hundred Rupees Non Judicial stamp paper duly certified by Notary Public)\\n\\n2\\n\\n5\\n\\nI, the undersigned solemnly declare that all the Statements made in the documents, records etc., attached with this application are true and correct to the best of my knowledge. I, the undersigned do hereby certify that any of the contract awarded to me/us has not been terminated rescinded, due to breach of contract on my/our part, during the last \"FIVE\" years. I, the undersigned authorize (s) and request (s) any bank / person / firm / Corporation / Government departments to furnish pertinent information deemed necessary and concerned Assistant requested by Commissioner/Executive Officer, to verify the statements made by me /us or to assess my/our competence and general reputation. I, the undersigned do hereby certify that if the contract is awarded to me / us, then I agree to furnish the required number of Site Engineers and Other skilled / Unskilled labour along with consent letter of employee, proof of educational qualifications, total span of experience etc. I, the undersigned do hereby certify that if the contract is awarded to me/us, then I agree to deploy the required number of construction equipment, tools and plants, vehiclesas mentioned in this tender document\\n\\n6\\n\\nI / We the undersigned, understand that further qualifying information / clarifications on the statements made by me/us may be requested by the Assistant Officer, Commissioner/Executive ArulmiguArthanareeswarartemple,Tiruchengode Town & Taluk, Namakkal District and agree to furnish such information / clarification within \"SEVEN\" days from the date of receipt of such request from the Executive Officer\\n\\nDated signature of Applicant with seal.\\n\\n(To be signed by the officer authorized by the Firm/ Company to sign on behalf of the Firm / Company with Company\\'s seal) Note: In case of sole proprietary concern, affidavit should be signed only by the sole proprietor. (Title of the officer) (Name of the Firm/Company) (Date) The above named deponent has understood the contents well and solemnly and sincerely declared and affirmed by the deponent in my present at and signed before me on this ',\n",
              " 'day of',\n",
              " '(Seal)\\n\\n(Signature of the Notary Public)\\n\\nSCHEDULE:E\\n\\nUNDERTAKING\\n\\n(Undertaking should be furnished in a Hundred Rupees Non-Judicial\\n\\nstamp paper and certified by the Notary public)\\n\\nI / We,\\n\\nthe applicant do hereby undertake that I/We will abide by the terms and conditions if any modified by the Government / Temple authorities in the contract conditions subsequent to submission of tender or subsequent to execution of the agreement.\\n\\nPlace:\\n\\nDate:\\n\\nSignature of the Applicant with\\n\\nSeal\\n\\nThe above named deponent has understood the contents well and solemnly and sincerely declared and affirmed by the deponent in my presence at and signed before meon this day of\\n\\nPlace:\\n\\nDate:\\n\\nSignature of Notary Public with\\n\\nSeal\\n\\nSCHDULE: F\\n\\nDECLARATION\\n\\nI / We ……………………………………………………………having our office at ……………………. do declare that I/We have carefully read all the conditions of tender floated vide tender ref no.130/2022,dated.22.02.2023 for Tender for the Construction of Pasumadamfor ArulmiguArthanareeswarar temple, Tiruchengode Town and Taluk,Namakkal District.\\n\\n(i)\\n\\nI/We have downloaded the website www.tn.tenders.gov.in /www.tnhrce.gov.in. I /We have not tampered / modified the tender document in any manner. In case, if the same is found to be tampered / modified, I/ We understand that my/our tender will be summarily rejected and full Earnest Money Deposit will be forfeited and I /We am/are liable to be banned from doing business with above mentioned Temple or prosecuted.\\n\\nI / We hereby quote to carry out various item of works specified in the enclosed schedule in which and within the time specified in the as set forth in the instructions to the Tender‟s attached at the rates given in the Schedule. The quotations furnished in the schedule are subject to the conditions set forth in the tender forms received by me / us\\n\\n(iv)\\n\\n„I / We hereby forward Rs…………….. (Rupees ………………………………. ) as Earnest ……………………………………………………………………..only the Assistant Commissioner/Executive Officer, Money Deposit ArulmiguArthanareeswarar Taluk, NamakkalDistrict agree for forfeiture of the same by the Assistant Commissioner/Executive Officer, temple, TiruchengodeTown &Taluk, NamakkalDistrict, in case of my / our failure to execute the contract accepted with the Assistant Commissioner/Executive Officer, and for which I / We already entered into a contract agreement”.\\n\\nI / We have gone through the tender notice and instructions to the Tenderer and agree to abide by all the conditions mentioned thereon.\\n\\n(v)',\n",
              " '(CERTIFICATE OF THE CONTRACTOR)\\n\\nName and Designation of the\\n\\nSignature with\\n\\nAuthorized Signatory\\n\\nOffice Seal']"
            ]
          },
          "execution_count": 52,
          "metadata": {},
          "output_type": "execute_result"
        }
      ],
      "source": [
        "texts"
      ]
    },
    {
      "cell_type": "code",
      "execution_count": 53,
      "id": "7a3154be",
      "metadata": {},
      "outputs": [
        {
          "data": {
            "text/plain": [
              "['S. No. 1. Schedule – A Schedule of quantities. 2. Schedule – B Rate of Progress 3. Drawings 4. Schedule – C 5. Schedule – D Affidavit 6. Schedule – E Undertaking 7. Schedule – F Declaration',\n",
              " 'NAME OF WORK : Construction of Pasumadam forArulmiguArthanareeswarar temple, Tiruchengode Town and Taluk,Namakkal District. Last Date and Time 14.03.2023 up to 2:30 PM for submission of Tender Date and Time of opening of Tender 14.03.2023 from 3:00 PM onwards Earnest Money Rs.30000/- Deposit (E.M.D.) Value Tender document cost Rs.10620/-(for direct purchase)',\n",
              " 'Rs.38,56,982/- Rs.30000/- Up to 13.03.2023until 5:45PM Period of Issue of Tender Documents Last date for receipt of Tender 14.03.2023upto 2:30 PM documents Period of Completion 6 Months (Six Months )',\n",
              " 'T.N.D. S.S. No. Probable Quantity Description of works Unit Amount In figures In words 1 65.00 m3 (Cubicmetr e) 1m3 (One cubic metre)',\n",
              " 'T.N.D. S.S. No. Probable Quantity Description of works Unit Amount In figures In words 2 78.00 m3 (Cubicmetr e) 1m3 (One cubic metre) 3 26.00 m3 (Cubicmetr e) 1m3 (One cubic metre) 4 65.00m3 (Cubicmetr e) 1m3 (One cubic metre)',\n",
              " 'Probable Quantity Description of works Unit Amount In figures In words 15 cm thick well rammed, watered and consolidated etc. complete complying with standard specification 5 50.00m3 (Cubicmetr e) 1m3 (One cubic metre) 6 11.00m3 (Cubicmetr e) 1m3 (One cubic metre)',\n",
              " 'Description of works Unit In figures In words 52.00m3 (Cubicmetr e) 1m3 (One cubic metre) 25.00m3 (Cubicmetr e) 1m3 (One cubic metre)',\n",
              " 'Description of works Unit Amount In figures In words',\n",
              " 'Description of works Unit Amount In figures In words 9 8.00m3 (cubic metre) 1m3 (One cubic metre)',\n",
              " 'Probable Quantity Description of works Unit In figures In words 43.00Qtl (Quintal) 1Qtl(One Quintal)',\n",
              " 'Probable Quantity Description of works Unit Amount In figures In words Supplying and erecting steel centering including necessary supports for plane surfaces for Reinforced Cement Concrete works such as column footings,Pile caps, column pedestals, plinth beams, grade beams, staircase steps, etc. which require only nominal strutting using mild steel sheets of size 90cm x 60cm and 10 BG stiffened with welded mild steel angles of size 25mm x 25mm x 3 mm for boarding, laid over silver oak joists of size 10cm x 6.5cm spaced at about 75cm centre to centre or at suitable intervals etc. complete in all floors complying with standard specifcation. (Payment for centering shall be given after the concrete is laid) Below GL (Foundation & Grade beam) a. 105.00 m2 (Square metre) 1m2 (One Square metre)',\n",
              " 'Probable Quantity Description of works Unit Amount In figures In words b. 60.00 m2 (Square metre) Column Pedestal (Column) 1m2 (One Square metre) c. 50.00m2 (Square metre) Plane surface – rooms (Beams, Slabs, Lintels) 1m2 (One Square metre) 12 4500.00 Kg (Kilogram) 1Kg (One Kilogram) 13 25.00m3 (cubic metre) 1m3 (One cubic metre) for foundation',\n",
              " 'S. No . T.N.D. S.S. No. Probable Quantity Description of works Unit Amount In figures In words 14 30.00m3 (cubic metre) Brick work in following Cement Mortar 1:6 using best quality II class Ground moulded chamber burnt bricks of size 9\" x 4-3/8\" x 2-3/4\" for foundation and basement including curing, etc., complete complying with standard specification – Superstructure, Groundfloor) Brick partition walls using best quality using Country Bricks of size 8-3/4\" x 4-1/4\" X2-3/4\" in Cement Mortar 1:3 (One Cement and Three crushed stone Sand) using hoop iron reinforcement if found necessary including curing etc. complete and as directed by the departmental officers. (Hoop iron reinforcement will be measured and paid for separately) Ground floor 1m3 (One cubic metre) 15 a. 30.00 m2 (Square metre) 1m2 (One Square metre)',\n",
              " 'Probable Quantity Description of works Unit Amount In figures In words b. 10.00 m2 (Square metre) Parapet 1m2 (One Square metre) Providing granolithic floor finish of the following thickness with plain cement concrete 1:2:4 (One Cement, Two sand and Four aggregate) using 10 to 12mm gauge hard broken stone jelly including laying, finishing and the top rubbed smooth with power trawl, thread lining, curing etc. complete complying with standard specification and as directed by the departmental officers. (The rate is inclusive of necessary planking for panelling wherever necessary and as directed by the departmental officers) For 25mm thick Supplying, fabrication and erection of Galvalume Colour sheet of size 0.47 mm 1m2 (One Square metre) 1m2 (One Square metre)',\n",
              " 'Description of works Unit In figures In words 40.00 metre (Running metre) 1 m (One running metre) 30.00 metre (Running metre) 1 m (One running metre)',\n",
              " 'Probable Quantity Description of works Unit In figures In words to those for more than 3.0M pipe length complying with standard specification. 20 Supplying and fixing in position PVC specials of the following dia and types of approved quality confirming to BIS and providing leak proof joints including fixing to the walls and giving connection to the PVC soil stacks, dismantling the masonry or RCC works and re- doing the dismantled portion to original condition etc., complete complying with standard specifications. (The PVC specials should be got approved by the Executive Engineer before use on works). 110 mm dia PVC elbow a. 16.00 nos. (Number) 1No. (One Number)',\n",
              " 'Rate S. No . T.N.D. S.S. No. Probable Quantity Description of works Unit Amount In figures In words b. 5.00 nos. (Number) 110 mm dia PVC Tee 1No. (One Number) 21 400.00 m2 (Square metre) 1m2 (One Square metre) 22 250.00 m2 (Square metre) 1m2 (One Square metre)',\n",
              " 'S. No . T.N.D. S.S. No. Probable Quantity Description of works Unit Amount In figures In words 23 26.00 m2 (Square metre) 1m2 (One Square metre) 24 26.00 m2 (Square metre) 1m2 (One Square metre)',\n",
              " 'Description of works Unit In figures In words 1.80m3 (cubic metre) 1m3 (One cubic metre) 25.00 m2 (Square metre) 1m2 (One Square metre)',\n",
              " 'T.N.D. S.S. No. Probable Quantity Description of works Unit Amount In figures In words 1 Kg (One Kilogram) 40.00 m2 (Square metre) 1m2 (One Square metre)',\n",
              " 'Probable Quantity Description of works Unit In figures In words 1m2 (One Square metre)',\n",
              " 'S. No . T.N.D. S.S. No. Probable Quantity Description of works Unit Amount In figures In words original condition, including testing for any leakages, etc., complete complying with standard specifications. (The PVC pipes should be got approved by the Executive Engineer before use on works). The rate for earth work excavation will be measured and paid separately in the cases where the pipe lines are proposed to laid below ground level 110 mm dia PVC soil/ waste pipe 70.00 metre (Running metre) 1 m (One running metre) 31 2.00 nos. (Number) 1No. (One Number)',\n",
              " 'Rate S. No . T.N.D. S.S. No. Probable Quantity Description of works Unit Amount In figures In words 1/4\". The inner side of chamber plastering cement mortar 1:3,20mm thick the outer chamber of wall to a depth of 600mm plastered in CM 1:5,12mm thick. The chamber top covered with SRF cover slab 100mm thick. The rate is including the cost of materials labour etc, complete. Solid PVC Door Shutters using 19 Gauge 19mm MSsquare tubes for styles and outer frames. 15mm MS square tubes for top, lock and bottom rails. The steel tubes shall be covered with 5mm thick solid PVC Sheets. Shutter using 5mm thick solid PVC Sheets for panelling shall rigidly fixed in position including necessary furniture and fittings. The over all size of styles shall be 50mm x 30mm. The over all size of top rail, lock rail and bottom rail shall be 75mm x 30mm.The over all size of frames shall be 50mm x 45mm with suitable rabate for housing 32 1.70 m2 (Square metre) 1m2 (One Square metre)',\n",
              " 'Probable Quantity Description of works Unit Amount In figures In words the shutter 1.00 no. (Number) 1No. (One Number)',\n",
              " 'Probable Quantity Description of works Unit Amount In figures In words 34 1.00 no. (Number) 1No. (One Number)',\n",
              " 'Probable Quantity Description of works Unit In figures In words 0.72 m2 (Square metre) 1m2 (One Square metre) 0.30 m2 (Square metre) 1m2 (One Square metre)',\n",
              " 'Probable Quantity Description of works Unit In figures In words 37 320.00 Kg (Kilogram) 1 Kg (One Kilogram)',\n",
              " 'Probable Quantity Description of works Unit Amount In figures In words',\n",
              " \"Probable Quantity Description of works Unit Amount In figures In words 2.00 m3 (cubic metre) Upto 15' ht. 1m3 (One cubic metre)\",\n",
              " \"Rate S. No . T.N.D. S.S. No. Probable Quantity Description of works Unit Amount In figures In words highly iron fortified and suitable for structural and masonry works. 8.00 m2 (Square metre) Upto 15' ht. 1m2 (One Square metre)\",\n",
              " '1 15.00 m3 (Cubicmetr e) Earth work excavation for foundation in all soils and sub- soils and to full depth except in rock requiring blasting inclusive of shoring shuttering, bailing out water wherever necessary and depositing the surplus earth with an initial lead of 10 mts and initial lift of 2 mts. and clearing and levelling the site, etc., complete complying with standard specification as per SS20B 1m3 (One cubic metre)',\n",
              " 'In figures In words 2 2.60 m3 (Cubicmetr e) Plain Cement Concrete 1:5:10 (One Cement, Five sand and Ten hard broken stone jelly) using 40 mm gauge hard broken granite stone jelly for foundation including dewatering wherever necessary and laid in layers of not more than 15 cm thick well rammed, consolidated and curing etc. complete complying with standard specification 1m3 (One cubic metre) 3',\n",
              " 'Probable Quantity Description of works Unit Amount In figures In words',\n",
              " 'Probable Quantity Description of works Unit Amount In figures In words a. 8.00m3 (Cubicmetr e) Upto basement 1m3 (One cubic metre) b. 2.00m3 (Cubicmetr e) Above basement 1m3 (One cubic metre) 4 Supplying and erecting centering the soffits of all reinforcement cement concrete surfaces M.S.Sheets of 90 x 60cm x 10 gauge stiffened with welded M.S angle of size 25x25x3mm laid over silver oak joints of size 10cm x 6.50cm spaced at about 90cm centre to centre and supported by casuarina props of 10cm to 13 cm dia spaced at 75cm centre to centre complying with standard specification',\n",
              " 'Probable Quantity Description of works Unit In figures In words a. 38.00 m2 (Square metre) Foundation and Grade beam 1m2 (One Square metre) b. 55.00 m2 (Square metre) Column 1m2 (One Square metre) 5 10.40 Qtl (Quintal) Supplying, fabricating and placing in position of M.S or RTS grill for reinforcement of all R.C.C. works including cost of steel and binding wire etc., complete complying with standard specification. 1Qtl(One Quintal) 6',\n",
              " 'S. No . T.N.D. S.S. No. Probable Quantity Description of works Unit Amount In figures In words a. 55.00 m2 (Square metre) Upto basement 1m2 (One Square metre) b. 95.00 m2 (Square metre) Above basement 1m2 (One Square metre) 7 340.00 m2 (Square metre) Plastering with Cement Mortar 1:5 (One cement and Five sand), 12mm thick in all floors including curing etc. complete complying with standard specification 1m2 (One Square metre) 8 340.00 m2 (Square metre) 1m2 (One Square metre)',\n",
              " 'Rate S. No . T.N.D. S.S. No. Probable Quantity Description of works Unit Amount In figures In words got approved by the Executive Engineer before use of work). TOTAL GST AT 18% GRAND TOTAL',\n",
              " 'Sl. No. Portion of work completed 1. 20% of work completed 30 days 2. 40% of work completed 60 days 3. 60% of work completed 90days 4. 80% of work completed 120 days 5. 100% of work completed 180days']"
            ]
          },
          "execution_count": 53,
          "metadata": {},
          "output_type": "execute_result"
        }
      ],
      "source": [
        "tables"
      ]
    },
    {
      "cell_type": "code",
      "execution_count": 28,
      "id": "hozF1abph8VC",
      "metadata": {
        "colab": {
          "base_uri": "https://localhost:8080/"
        },
        "id": "hozF1abph8VC",
        "outputId": "fe50a33b-6bbd-47c7-f6df-91cf80281249"
      },
      "outputs": [
        {
          "data": {
            "text/plain": [
              "['The provided text mentions the ARULMIGU ARTHANAREESWARAR TEMPLE in Tiruchengode Town and Taluk, Namakkal District, but it does not contain any tender information or schedule. Therefore, I cannot provide a summary of the information requested.',\n",
              " 'The table outlines the components of a tender document for the construction of Pasumadam at Arulmigu Arthanareeswarar Temple in Tiruchengode, Namakkal District. It includes schedules for rates and quantities, rate of progress, drawings, eligibility criteria, an affidavit, undertaking, declaration, and the names and signatures of the tenderer and Assistant Commissioner/Executive Officer.',\n",
              " 'Arulmigu Arthanareeswarar Temple in Tiruchengode, Namakkal District, is inviting tenders for the construction of a \"Pasumadam\" (greenhouse). The tender submission deadline is 2:30 PM on March 14, 2023, with the tender opening scheduled for 3:00 PM on the same day. Eligible contractors must be registered with the T.N.P.W.D. Class V or above and have an Earnest Money Deposit (E.M.D.) of Rs. 30,000. The tender document costs Rs. 10,620 for direct purchase.',\n",
              " 'A tender for the construction of a Pasumadam (cowshed) for the Arulmigu Arthanareeswarar temple in Tiruchengode is available for download or purchase. The tender documents can be obtained for free online or for a fee of Rs. 9,000 + GST at the temple office. The Earnest Money Deposit (EMD) for the tender is Rs. 30,000. The last date for receipt of tender documents is 14.03.2023 at 2:30 PM, and the completion period is six months.',\n",
              " 'The provided text does not mention anything about a compound wall in brick masonry, so I cannot provide a summary.',\n",
              " 'The table shows the quantity and unit rate for earthwork excavation for foundation, including shoring, bailing out water, and refilling the foundation. The total quantity of earthwork excavation is 65.00 m3 (cubic meters), with a unit rate of 1 (one cubic meter).',\n",
              " 'The table provides quantities for various site preparation and filling works:\\n\\n- 2 cubic meters for initial lift, clearing, and leveling\\n- 78 cubic meters for gravel filling\\n- 26 cubic meters for M sand filling\\n- 65 cubic meters for refilling with excavated earth',\n",
              " 'The table provides the estimated quantities of materials and labor required for various construction tasks, including earthwork, concrete work, and other specifications. The quantities are expressed in cubic meters and range from 5 to 11 cubic meters for different tasks.',\n",
              " 'The table details the materials and quantities required for construction works. It includes 52 cubic meters of Cement Concrete 1:4:8 for flooring and 25 cubic meters of standardized concrete Mix M-20 Grade for RCC items.',\n",
              " '**RCC Floor/Roof Slabs Construction**\\n\\nConstruction of RCC floor/roof slabs using:\\n\\n* 20mm machine crushed stone jelly: 7730 kg\\n* 10-12mm machine crushed stone jelly: 5156 kg\\n* Sand: 7670 kg\\n\\n**Exclusions:**\\n\\n* Reinforcement grill and fabrication\\n* Centering and shuttering\\n* Fixtures (fan clamps)\\n\\n**Inclusions:**\\n\\n* Laying, vibrating, finishing, curing\\n* Compliance with standard specifications and departmental instructions\\n* Materials complying with IS standards\\n\\n**Note:** Excess material usage will not be compensated by the Department.',\n",
              " 'The table describes the provision and installation of concrete M-20 with specific material proportions and properties. It includes materials, such as granite stone jelly, machine crushed stone, and sand, but excludes reinforcement, shuttering, and curing costs.',\n",
              " \"The table details the quantity of materials required for the construction of a building's superstructure. It includes the supply and placement of steel reinforcement (43.00 Quintals) and the use of MS or RTS rods (1 Quintal) for all RCC items.\",\n",
              " 'The table details the quantity and unit price for supplying and erecting steel centering for reinforced cement concrete works below ground level (foundation and grade beam), including column footings, pile caps, and other structures requiring nominal strutting. The centering uses mild steel sheets, welded mild steel angles, and silver oak joists. The total quantity is 105.00 square meters, priced at 1 unit (square meter) each.',\n",
              " 'The table contains the quantities and descriptions of various construction works, including column pedestals, plane surfaces, roof sheds, brickwork, and basement. The units of measurement are provided in both figures and words, and the quantities are expressed in square meters, kilograms, and cubic meters.',\n",
              " 'The table details the quantities of two types of brickwork:\\n\\n1. Brick work in Cement Mortar 1:6: 30.00 cubic meters\\n2. Brick partition walls in Cement Mortar 1:3: 30.00 square meters',\n",
              " 'The table lists the probable quantities of materials required for various construction works, including:\\n\\n- Parapet: 1 square meter\\n- Granolithic floor finish: 255 square meters\\n- Galvalume color sheet: 165 square meters',\n",
              " '**Summary:**\\n\\nThis table lists two items:\\n\\n* **Item 1:** Providing and fixing 15 cm wide semi-color galvanized sheet gutter with iron brackets, bolts, and washers, including PVC rainwater downpipes and cast iron gratings.\\n* **Item 2:** Supplying and fixing 110 mm diameter PVC rainwater downpipes with clamps, screws, and gratings.\\n\\nBoth items include the cost of materials and labor.',\n",
              " 'The table provides a summary of the probable quantity and unit for the supply and installation of 110 mm diameter PVC elbow specials. The quantity specified is 16 units (in words) and 16 (in figures).',\n",
              " 'The table provides information on two construction tasks:\\n\\n1. Plastering with 1:5 sand, 12mm thick, over 400 square meters of surface.\\n2. Two coats of exterior emulsion paint over 250 square meters of primed wall surface.',\n",
              " 'The table lists two descriptions of work:\\n\\n1. Special ceiling plastering and finishing (26.00 m2)\\n2. Painting walls with cement paint (26.00 m2)',\n",
              " 'The table describes the construction of a jelly concrete roofing system in two layers. The first layer consists of crushed jelly concrete laid over an RCC roof slab, while the second layer involves installing machine-made tiles set in cement mortar. The materials and proportions used in each layer are specified.',\n",
              " 'The table lists two construction tasks:\\n\\n1. **Supplying and fixing pressed tiles:** 520 kg of tiles measuring 230mm x 230mm x 20mm.\\n2. **Painting new iron works:** 40 square meters of painting, including priming, two coats of synthetic enamel paint, and labor charges.',\n",
              " ',',\n",
              " 'The table outlines the construction of a 110 mm diameter PVC soil/waste pipe and an inspection chamber. The pipe will be laid for a distance of 70 meters, while the chamber will have dimensions of 450x450x900 mm and will be constructed using brick masonry.',\n",
              " '**Summary:**\\n\\nThe table provides rates for two construction works:\\n\\n1. **Chamber Plastering and Covering:**\\n   - Inner chamber wall plastering (1:3 cement mortar, 20mm thick)\\n   - Outer chamber wall plastering (1:5 cement mortar, 12mm thick)\\n   - Chamber top covered with SRF cover slab (100mm thick)\\n\\n2. **Solid PVC Door Shutters:**\\n   - MS square tubes for styles/outer frames (19mm and 15mm thick)\\n   - 5mm thick solid PVC sheets for door panels\\n   - Necessary furniture and fittings\\n   - Styles: 50mm x 30mm\\n   - Top/Lock/Bottom rails: 75mm x 30mm\\n   - Frames: 50mm x 45mm with rabate',\n",
              " 'The table provides details of a construction work involving the supply and installation of an Indian Water Closet (IWC). The work includes the following:\\n\\n* Supplying and fixing a white glazed earthenware IWC of approved quality and size.\\n* Creating a sand cushion and flooring around the IWC using crushed stone sand and broken brick jelly in lime concrete.\\n* Providing necessary connections to PVC pipes, including dismantling and repairing brick walls, reinforced concrete roofs, or floor slabs.\\n* The quantity of the work is specified as 1 number (1 No.).',\n",
              " 'The table describes the specifications for supplying and installing cast iron sani traps and floor traps. The traps should be fitted with stainless steel gratings and connected to CI pipes. The work must comply with standard specifications and be approved by the Executive Engineer.',\n",
              " 'The table lists two construction tasks:\\n\\n1. **Precast Reinforced Cement Concrete slabs**: 35 square meters\\n2. **RCC Jally**: 0.72, 0.30, and 1 square meter',\n",
              " 'The table indicates that the probable quantity of MS railing to be provided and fixed is 37,320 kilograms. This includes providing and fixing hollow tubes, channels, and plates, as well as welding, grinding, buffing, and curvature. The railing will also be fitted with MS nuts and bolts, and MS base cups will be provided. Pockets will be made in existing RC/Masonary surfaces, and MS plates will be fixed with M10 anchor fasteners. MS caps for anchor bolts will be provided, and the pockets will be grouted with CC 1:2:4. The surface will be restored to its original position. Necessary tools and plants, welding consumables, and buffing charges will be included. One coat of primer and two coats of synthetic enamel paint will be applied. The work will be carried out at all levels and heights as directed by departmental officers.',\n",
              " 'The table details the quantity and description of brick masonry work, including the use of Chamber Burnt Bricks and lime from Pollachi. The quantity is specified as 38 cubic feet per unit, for use in constructing the core walls of Rajagopuram and Vimanams.',\n",
              " \"The table describes the construction of a decorative structure (Vargapoochu) on a temple's roof (varivarghamsetc). It includes shaping, plastering, and ornamentation using specific materials and techniques. The quantity is 2.00 cubic meters, and the rate per unit is not provided.\",\n",
              " 'The table lists a construction project involving the construction of a compound wall using highly iron-reinforced concrete blocks suitable for structural and masonry work. The wall will be up to 15 feet high and the total area of the wall to be constructed is 8 square meters.',\n",
              " 'Earthwork excavation for foundation involves removing soil and subsoil, shoring, bailing water, and depositing surplus earth at a lead of 10 meters and a lift of 2 meters. The excavation process includes site clearing and leveling, and adheres to SS20B specifications.',\n",
              " 'The table details the specifications for two types of concrete:\\n\\n1. **Plain Cement Concrete 1:5:10:** 1 cubic meter of concrete with a cement-to-sand-to-hard-broken-stone-jelly ratio of 1:5:10.\\n\\n2. **Standardised Concrete Mix M-20 Grade:** 2.60 cubic meters of concrete with a minimum cement content of 325 kg/m³ and a maximum water-cement ratio of 0.55.',\n",
              " 'The table outlines the materials required for concrete construction, including machine-crushed stone jelly (20mm and 10-12mm) and sand, with specific quantities measured in cubic meters and kilograms. These materials are used for durability, with the costs including laying, vibrating, finishing, curing, and providing fixtures. The materials must meet IS Standard requirements, and no separate payment will be made for excess usage.',\n",
              " 'The table provides probable quantities for two types of construction work:\\n\\n* **Upto basement:** Supplying and erecting centering for reinforced cement concrete surfaces (8.00 cubic meters)\\n* **Above basement:** Supplying and erecting centering for reinforced cement concrete surfaces (2.00 cubic meters)',\n",
              " 'The table details the quantities of materials required for various construction works:\\n\\n- **Foundation and Grade Beam:** 38.00 square meters\\n- **Column:** 55.00 square meters\\n- **MS/RTS Grill Reinforcement:** 10.40 quintals\\n- **Brick Partition Walls:** 5 quintals',\n",
              " 'The table summarizes the quantities of various construction works, including plastering and painting, to be performed in different areas of a building. The units of measurement are square meters (m2), and the quantities are given in both figures and words.',\n",
              " 'The table presents the probable quantity and description of works for the construction of Pasumadam for Arulmigu Arthanareeswarar Temple. It includes the unit, quantity in figures and words, and the rate. The total amount excluding GST is also provided. Tenderers are required to quote the basic rate inclusive of labor charges and other expenses, excluding GST and hire charges for machinery.',\n",
              " 'The table shows the progress of a project, indicating that 20% of the work is completed within 30 days, 40% within 60 days, 60% within 90 days, 80% within 120 days, and 100% within 180 days.\\n\\nThe eligibility criteria for this project includes being a registered contractor with the Tamil Nadu government, having a proven track record, and submitting various documents such as registration certificates, GST clearance certificates, financial statements, and work experience certificates.\\n\\nEarnest money deposit of Rs. 30,000 is required in the form of a demand draft or other acceptable securities.',\n",
              " \"The successful bidder must provide a security deposit of 2% of the contract value within 15 days of contract acceptance. Additionally, a 5% retention amount will be deducted from each bill. The contractor should inspect the site and plan accordingly, and the work must comply with T.N.B.P.S.S. and National Building Code specifications. The contractor is responsible for providing their own equipment, and excess materials will be charged at double the issue rate. The contractor is required to adhere to labor regulations and safety measures, and the departmental officers' decisions regarding measurements and materials are final.\",\n",
              " 'I cannot provide a summary as no table or text was provided to me.',\n",
              " 'The provided information outlines safety provisions for construction work. It emphasizes the use of suitable scaffolds, the importance of periodic inspections, and the need for proper construction of working platforms, gateways, and straight ways to prevent accidents. Additionally, it highlights the requirement for group insurance for laborers and the necessity of precautions to prevent falls and falling objects.',\n",
              " '**Summary of Safety Regulations for Workplaces:**\\n\\nThis document outlines safety measures for workplaces, including:\\n\\n* **Access and Lighting:** Safe access and adequate lighting must be provided for all working areas.\\n* **Electrical Hazards:** Adequate precautions must be taken to prevent electrical hazards.\\n* **Material Placement:** Materials must be placed safely to avoid causing danger.\\n* **Hoisting Appliances:** Hoisting machines and tools must be mechanically sound, well-maintained, and tested regularly.\\n* **Operator Qualifications:** Crane drivers and hoisting appliance operators must be qualified.\\n* **Safe Working Loads:** Safe working loads for hoisting equipment and accessories must be determined and clearly marked.\\n* **Load Limits:** Hoisting equipment and gears must not be loaded beyond their safe working loads.',\n",
              " '**Safety Measures for Hoisting Appliances and Equipment**\\n\\nHoisting appliances must have safeguards for dangerous parts and measures to prevent accidental descent. Personal safety equipment must be available and used by employees.\\n\\n**Emergency Preparedness**\\n\\nEquipment for rescuing individuals in danger must be provided when work is near hazardous areas. Adequate first-aid treatment must be available, and transportation for urgent medical cases must be arranged.',\n",
              " 'I cannot provide a summary of the information contained in the table or text because it is not provided. Please provide the table or text so I can assist you.',\n",
              " 'The provided text includes two declarations:\\n\\n**Undertaking (Schedule E)**\\n\\nThe applicant agrees to comply with any modifications made to the contract conditions by government or temple authorities, both before and after the tender submission or agreement execution.\\n\\n**Declaration (Schedule F)**\\n\\nThe applicant:\\n\\n* Acknowledges downloading the tender documents from official websites.\\n* Certifies that they have not altered the tender documents and understand the consequences of doing so.\\n* Declares their bid and rates as per the tender instructions.\\n* Submits the earnest money deposit and authorizes its forfeiture in case of failure to execute the contract.\\n* Agrees to abide by all tender conditions.',\n",
              " 'The table or text provided does not contain any information about a certificate of the contractor, so I cannot provide a summary.']"
            ]
          },
          "execution_count": 28,
          "metadata": {},
          "output_type": "execute_result"
        }
      ],
      "source": [
        "text_summaries"
      ]
    },
    {
      "cell_type": "code",
      "execution_count": 29,
      "id": "ktjs1Z_Kfaup",
      "metadata": {
        "colab": {
          "base_uri": "https://localhost:8080/"
        },
        "id": "ktjs1Z_Kfaup",
        "outputId": "ee5574d3-3d1e-40cd-b182-cd411741f109"
      },
      "outputs": [
        {
          "data": {
            "text/plain": [
              "['The table lists seven items, each with a letter designation followed by a description. For example, item 1 is designated as \"A\" and described as \"- of.\"',\n",
              " 'Tenders are invited for the construction of Pasumadam for Arulmigu Arthanareeswarar temple in Tiruchengode. The last date for submission is March 14, 2023, up to 2:30 PM, with the opening of tenders scheduled for the same day from 3:00 PM onwards. Earnest Money Deposit (EMD) of Rs. 30,000/- is required, and the tender document cost is Rs. 10,620/- for direct purchase.',\n",
              " 'Tender documents for a project worth Rs. 38,56,982/- can be purchased until 13.03.2023, 5:45 PM. The deadline for submitting tender documents is 14.03.2023, 2:30 PM. The project has a completion period of six months.',\n",
              " 'The table indicates that 65.00 cubic meters of work is required, with each cubic meter costing 1 unit.',\n",
              " 'The table lists three entries for \"T.N.D. S.S. No.\", each with a corresponding \"Probable Quantity\" and \"Description of works\". The first entry has a quantity of 78.00 cubic meters and a description of \"1m3 (One cubic metre)\". The second entry has a quantity of 26.00 cubic meters and a description of \"1m3 (One cubic metre)\". The third entry has a quantity of 65.00 cubic meters and a description of \"1m3 (One cubic metre)\".',\n",
              " 'The table lists two construction works:\\n\\n1. 15 cm thick well rammed, watered, and consolidated work: 50 cubic meters\\n2. 11 cubic meters of work\\n\\nBoth works comply with standard specifications and are measured in cubic meters.',\n",
              " 'The table describes two works in terms of volume. The first work has a volume of 52 cubic meters, and the second work has a volume of 25 cubic meters.',\n",
              " '**Summary Table:**\\n\\n| Description of Works | Unit | Amount |\\n|---|---|---|\\n| Not provided | Not provided | Not provided |',\n",
              " 'The table indicates that 8 cubic meters of work were completed, with each cubic meter costing 1.',\n",
              " 'The table indicates that the probable quantity of work is 43 quintals, with each quintal representing a unit of measurement.',\n",
              " 'The table lists the quantity and description of steel centering required for concrete works, including column footings, pile caps, and staircase steps. The centering consists of mild steel sheets stiffened with angles and laid over silver oak joists. The total quantity of centering required below ground level is 105 square meters.',\n",
              " 'The table lists the quantities and descriptions of various construction materials, including column pedestals, plane surfaces (beams, slabs, lintels), and materials for foundation (kilograms and cubic meters). The quantities are provided in both figures and words, with the units specified as square meters or cubic meters.',\n",
              " 'The table details brickwork quantities and descriptions for a construction project. It includes 30 cubic meters of brickwork in Cement Mortar 1:6 for foundation and basement, and 30 square meters of brick partition walls in Cement Mortar 1:3 with optional hoop iron reinforcement.',\n",
              " 'The table provides details of the probable quantity and description of works for two items:\\n\\n1. **Parapet Floor Finish**: 10.00 m2 of 25mm thick plain cement concrete floor finish with 1:2:4 proportions and 10-12mm gauge hard broken stone jelly, including laying, finishing, and curing.\\n\\n2. **Galvalume Colour Sheet**: Supply, fabrication, and installation of Galvalume Colour sheets with a thickness of 0.47 mm for an area of 1m2.',\n",
              " 'The table describes two works, each measured in running metres. The first work measures 40 running metres, while the second measures 30 running metres.',\n",
              " 'The table specifies the quantity and description of PVC specials required for a project. It includes 16 PVC elbows with a diameter of 110 mm and 1 unidentified special with a diameter of 110 mm. All specials must meet standard specifications and be approved by the Executive Engineer before use.',\n",
              " 'The table includes three items:\\n\\n1. 110 mm diameter PVC Tee (5 units)\\n2. Area (21 square meters)\\n3. Area (22 square meters)',\n",
              " 'The table lists two items with their corresponding quantities and descriptions:\\n\\n1. Item 23: 26 square meters of an unspecified work.\\n2. Item 24: 26 square meters of an unspecified work.',\n",
              " 'The table provides measurements in both cubic and square meters, along with their corresponding unit values. 1 cubic meter is equivalent to 1.80 cubic meters, and 1 square meter is equivalent to 25 square meters.',\n",
              " 'The table contains a single entry for T.N.D. S.S. No. 1, with a probable quantity of 40 square meters. The description of works is not provided in the given information.',\n",
              " '1 square metre of unspecified works',\n",
              " 'The table details the materials and quantities required for a project involving the installation of 110 mm diameter PVC soil/waste pipes. The project will require approximately 70 meters of pipe and 2 end caps.',\n",
              " 'The table provides the rate, quantity, and description of two construction works:\\n\\n1. **Chamber Plastering and Cover Slab:**\\n   - Plastering using cement mortar 1:3 for the inner chamber and 1:5 for the outer wall.\\n   - Covering the chamber top with a 100mm thick SRF cover slab.\\n   - Includes all materials, labor, and completion.\\n\\n2. **Solid PVC Door Shutters:**\\n   - Using 19mm MS square tubes for styles and outer frames, 15mm MS square tubes for top, lock, and bottom rails.\\n   - Covering the steel tubes with 5mm thick solid PVC sheets.\\n   - Using 5mm thick solid PVC sheets for panelling.\\n   - Includes necessary furniture, fittings, and a frame size of 50mm x 45mm.',\n",
              " 'The table indicates that a single shutter will be installed.',\n",
              " 'The table indicates a quantity of 34 units, described as \"Number\" or \"One Number\".',\n",
              " 'The table shows the probable quantity of works in square meters. The first row indicates a probable quantity of 0.72 square meters, while the second row indicates a probable quantity of 0.30 square meters.',\n",
              " 'The table lists the quantity and description of materials required for a project. It includes 37 kilograms (Kg) of a material, denoted as \"One Kilogram.\"',\n",
              " 'This context does not include a table or text to summarize. Please provide the necessary information to generate a summary.',\n",
              " \"The table lists the quantity and description of works:\\n\\n- Up to 15' height: 2.00 cubic metres\\n- One cubic metre: 1.00 cubic metre\",\n",
              " 'The table provides information on the rate of a construction material, specifically iron-fortified concrete, suitable for structural and masonry works. The rate is 8.00 Indian rupees per square meter for works up to 15 feet in height.',\n",
              " 'Earthwork excavation for foundations includes removing soil, shoring, bailing water, and depositing excess earth, according to SS20B standards. The initial lead is 10 meters, and the initial lift is 2 meters.',\n",
              " '**Summary:**\\n\\nThe table specifies the materials and dimensions for plain cement concrete (1:5:10) used in foundations:\\n\\n* Quantity: 2.60 cubic meters\\n* Layers: Not more than 15 cm thick\\n* Materials:\\n    * Cement: 1 unit\\n    * Sand: 5 units\\n    * Hard broken granite stone jelly: 10 units (40 mm gauge)',\n",
              " 'No table or text was provided for me to summarize. Please provide the table or text so I can assist you.',\n",
              " 'The table details the quantities and descriptions of materials and labor required for constructing centering for reinforced concrete surfaces:\\n\\n- Up to basement: 8 cubic meters of M.S. sheets, angles, silver oak joints, and casuarina props\\n- Above basement: 2 cubic meters of the same materials',\n",
              " 'The table provides quantities and descriptions of construction works:\\n\\n- Foundation and Grade Beam: 38 square meters\\n- Column: 55 square meters\\n- MS or RTS Grill Reinforcement: 10.40 quintals',\n",
              " 'The table provides details of plastering works for a building:\\n\\n* **Item 7:** Plastering with Cement Mortar 1:5, 12mm thick, up to basement: 55 square meters\\n\\n* **Item 8:** Plastering with Cement Mortar 1:5, 12mm thick, above basement: 95 square meters\\n\\n* **Item 8:** Plastering with Cement Mortar 1:5, 12mm thick, in all floors: 340 square meters',\n",
              " 'The provided text does not include a table or specific information to summarize. Please provide the relevant table or text for me to summarize its contents.',\n",
              " 'The table shows a linear progression of work completion over time, with a consistent 20% increase in work completed every 30 days. The work began on day 0 and was completed on day 180.']"
            ]
          },
          "execution_count": 29,
          "metadata": {},
          "output_type": "execute_result"
        }
      ],
      "source": [
        "table_summaries"
      ]
    },
    {
      "cell_type": "code",
      "execution_count": null,
      "id": "7bUlDyTigly3",
      "metadata": {
        "id": "7bUlDyTigly3"
      },
      "outputs": [],
      "source": [
        "%%capture\n",
        "!pip install faiss-cpu tiktoken faiss-gpu chromadb\n"
      ]
    },
    {
      "cell_type": "code",
      "execution_count": 46,
      "id": "346c3a02-8fea-4f75-a69e-fc9542b99dbc",
      "metadata": {
        "id": "346c3a02-8fea-4f75-a69e-fc9542b99dbc"
      },
      "outputs": [],
      "source": [
        "import uuid\n",
        "from langchain.vectorstores import Chroma\n",
        "from langchain.storage import InMemoryStore\n",
        "from langchain.schema.document import Document\n",
        "from langchain_google_genai import GoogleGenerativeAIEmbeddings\n",
        "from langchain.retrievers.multi_vector import MultiVectorRetriever\n",
        "\n",
        "vectorstore = Chroma(\n",
        "    collection_name=\"summaries\",\n",
        "    embedding_function=GoogleGenerativeAIEmbeddings(model=\"models/embedding-001\",google_api_key=GOOGLE_API_KEY)\n",
        ")\n",
        "\n",
        "store = InMemoryStore()\n",
        "id_key = \"doc_id\"\n",
        "\n",
        "retriever = MultiVectorRetriever(\n",
        "    vectorstore=vectorstore,\n",
        "    docstore=store,\n",
        "    id_key=id_key,\n",
        ")\n",
        "\n",
        "doc_ids = [str(uuid.uuid4()) for _ in texts]\n",
        "summary_texts = [Document(page_content=s,metadata={id_key: doc_ids[i]}) for i, s in enumerate(text_summaries)]\n",
        "retriever.vectorstore.add_documents(summary_texts)\n",
        "retriever.docstore.mset(list(zip(doc_ids, texts)))\n",
        "\n",
        "table_ids = [str(uuid.uuid4()) for _ in tables]\n",
        "summary_tables = [Document(page_content=s,metadata={id_key: table_ids[i]}) for i, s in enumerate(table_summaries)]\n",
        "retriever.vectorstore.add_documents(summary_tables)\n",
        "retriever.docstore.mset(list(zip(table_ids, tables)))"
      ]
    },
    {
      "cell_type": "markdown",
      "id": "1d8bbbd9-009b-4b34-a206-5874a60adbda",
      "metadata": {
        "id": "1d8bbbd9-009b-4b34-a206-5874a60adbda"
      },
      "source": [
        "## RAG from LangChain Expression Language.\n",
        "\n",
        "Run [RAG pipeline](https://python.langchain.com/docs/expression_language/cookbook/retrieval)."
      ]
    },
    {
      "cell_type": "code",
      "execution_count": 39,
      "id": "f2489de4-51e3-48b4-bbcd-ed9171deadf3",
      "metadata": {
        "id": "f2489de4-51e3-48b4-bbcd-ed9171deadf3"
      },
      "outputs": [],
      "source": [
        "from operator import itemgetter\n",
        "from langchain.schema.runnable import RunnablePassthrough\n",
        "\n",
        "template = \"\"\"Answer the question based only on the following context, which can include text and tables:\n",
        "{context}\n",
        "Question: {question}\n",
        "\"\"\"\n",
        "\n",
        "prompt = ChatPromptTemplate.from_template(template)\n",
        "\n",
        "model = ChatGoogleGenerativeAI(model=\"gemini-pro\", google_api_key=GOOGLE_API_KEY)\n",
        "\n",
        "chain = (\n",
        "    {\"context\": retriever, \"question\": RunnablePassthrough()}\n",
        "    | prompt\n",
        "    | model\n",
        "    | StrOutputParser()\n",
        ")"
      ]
    },
    {
      "cell_type": "code",
      "execution_count": 40,
      "id": "90e3d100-10e8-4ee6-ae46-2480b1524ec8",
      "metadata": {
        "colab": {
          "base_uri": "https://localhost:8080/",
          "height": 35
        },
        "id": "90e3d100-10e8-4ee6-ae46-2480b1524ec8",
        "outputId": "beb67374-3dbf-4275-859a-d5d9c976de64"
      },
      "outputs": [
        {
          "data": {
            "text/plain": [
              "'Rs.30000'"
            ]
          },
          "execution_count": 40,
          "metadata": {},
          "output_type": "execute_result"
        }
      ],
      "source": [
        "chain.invoke(\"What is the total doucment cost?\")"
      ]
    },
    {
      "cell_type": "code",
      "execution_count": 41,
      "id": "tgNt8VuYiJsv",
      "metadata": {
        "colab": {
          "base_uri": "https://localhost:8080/",
          "height": 35
        },
        "id": "tgNt8VuYiJsv",
        "outputId": "f216a796-8ea2-40df-b8d9-54d37f3b516e"
      },
      "outputs": [
        {
          "data": {
            "text/plain": [
              "'This context does not mention anything about Earnest Money Deposit, so I cannot answer this question from the provided context.'"
            ]
          },
          "execution_count": 41,
          "metadata": {},
          "output_type": "execute_result"
        }
      ],
      "source": [
        "chain.invoke(\"What is the Earnest Money Deposit value?\")"
      ]
    },
    {
      "cell_type": "code",
      "execution_count": 37,
      "id": "fo2tV00xi24a",
      "metadata": {
        "colab": {
          "base_uri": "https://localhost:8080/",
          "height": 35
        },
        "id": "fo2tV00xi24a",
        "outputId": "01bcecb1-61df-4b84-b047-ed326e7f24d2"
      },
      "outputs": [
        {
          "data": {
            "text/plain": [
              "'The provided context does not include a second table, so I cannot summarize it.'"
            ]
          },
          "execution_count": 37,
          "metadata": {},
          "output_type": "execute_result"
        }
      ],
      "source": [
        "chain.invoke(\"Can you summarize the second table\")"
      ]
    },
    {
      "cell_type": "code",
      "execution_count": 54,
      "id": "X4h3fxJ4pCR4",
      "metadata": {
        "colab": {
          "base_uri": "https://localhost:8080/",
          "height": 35
        },
        "id": "X4h3fxJ4pCR4",
        "outputId": "8c317302-4f33-4dc0-8d50-f01f18b42f04"
      },
      "outputs": [
        {
          "data": {
            "text/plain": [
              "'The provided context does not mention anything about the average tokens in responses for Meta, so I cannot answer this question from the provided context.'"
            ]
          },
          "execution_count": 54,
          "metadata": {},
          "output_type": "execute_result"
        }
      ],
      "source": [
        "chain.invoke(\"What is the average tokens in responses for Meta?\")"
      ]
    },
    {
      "cell_type": "code",
      "execution_count": 55,
      "id": "kBs8GdJKm_YX",
      "metadata": {
        "colab": {
          "base_uri": "https://localhost:8080/",
          "height": 35
        },
        "id": "kBs8GdJKm_YX",
        "outputId": "a9ec31af-8351-47c2-ee6d-4e4a60a28b06"
      },
      "outputs": [
        {
          "data": {
            "text/plain": [
              "'The provided context does not mention anything about Pretraining data, so I cannot answer this question from the provided context.'"
            ]
          },
          "execution_count": 55,
          "metadata": {},
          "output_type": "execute_result"
        }
      ],
      "source": [
        "chain.invoke(\"What is the Pretraining data ?\")"
      ]
    },
    {
      "cell_type": "markdown",
      "id": "37f46054-e239-4ba8-af81-22d0d6a9bc32",
      "metadata": {
        "id": "37f46054-e239-4ba8-af81-22d0d6a9bc32"
      },
      "source": [
        "We can check the [trace](https://smith.langchain.com/public/7ef3c73c-7b04-4621-864d-273606657566/r) to see what chunks were retrieved."
      ]
    },
    {
      "cell_type": "code",
      "execution_count": 57,
      "id": "UiNhIEarY2RL",
      "metadata": {
        "id": "UiNhIEarY2RL"
      },
      "outputs": [],
      "source": [
        "import os\n",
        "from crewai import Agent, Task, Crew, Process\n",
        "from langchain_google_genai import ChatGoogleGenerativeAI\n",
        "llm = ChatGoogleGenerativeAI(model=\"gemini-pro\",verbose = True,temperature = 0.1,google_api_key=GOOGLE_API_KEY)"
      ]
    },
    {
      "cell_type": "code",
      "execution_count": null,
      "id": "uy3ihIIvaoSy",
      "metadata": {
        "colab": {
          "base_uri": "https://localhost:8080/"
        },
        "id": "uy3ihIIvaoSy",
        "outputId": "52eb9cfa-c1a0-4b4c-a7f6-48f364e0ac8c"
      },
      "outputs": [],
      "source": [
        "pip install crewai"
      ]
    },
    {
      "cell_type": "code",
      "execution_count": 59,
      "id": "ZozQjbUCaoV0",
      "metadata": {
        "id": "ZozQjbUCaoV0"
      },
      "outputs": [],
      "source": [
        "researcher = Agent(\n",
        "role='Senior Research Analyst',\n",
        "goal='Uncover cutting-edge developments in AI and data science',\n",
        "backstory=\"\"\"You work at a leading tech think tank.\n",
        "Your expertise lies in identifying emerging trends.\n",
        "You have a knack for dissecting complex data and presenting\n",
        "actionable insights.\"\"\",\n",
        "verbose=True,\n",
        "llm = llm,\n",
        "allow_delegation=False,\n",
        "tools=[],\n",
        ")\n",
        "\n",
        "writer = Agent(\n",
        "role='Tech Content Strategist',\n",
        "goal='Craft compelling content on tech advancements',\n",
        "backstory=\"\"\"You are a renowned psychopath, known for\n",
        "your insightful and engaging articles.\n",
        "You transform complex concepts into compelling narratives.\"\"\",\n",
        "verbose=True,\n",
        "allow_delegation=True,\n",
        "llm = llm,\n",
        "tools=[],\n",
        ")\n",
        "\n",
        "task1 = Task(\n",
        "description=\"\"\"Conduct a comprehensive analysis of the latest advancements in AI in 2024.\n",
        "Identify key trends, breakthrough technologies, and potential industry impacts.\n",
        "Your final answer MUST be a full analysis report\"\"\",\n",
        "agent=researcher\n",
        ")\n",
        "\n",
        "task2 = Task(\n",
        "description=\"\"\"Using the insights provided, develop an engaging blog\n",
        "post that highlights the most significant AI advancements.\n",
        "Your post should be informative yet accessible, catering to a tech-savvy audience.\n",
        "Make it sound cool, avoid complex words so it doesn't sound like AI.\n",
        "Your final answer MUST be the full blog post of at least 4 paragraphs.\"\"\",\n",
        "agent=writer\n",
        ")"
      ]
    },
    {
      "cell_type": "code",
      "execution_count": 60,
      "id": "JVzsSU3baoYi",
      "metadata": {
        "id": "JVzsSU3baoYi"
      },
      "outputs": [],
      "source": [
        "crew = Crew(\n",
        "agents=[researcher, writer],\n",
        "tasks=[task1, task2],\n",
        "verbose=2,\n",
        ")"
      ]
    },
    {
      "cell_type": "code",
      "execution_count": 61,
      "id": "luV4_KoIaobz",
      "metadata": {
        "colab": {
          "base_uri": "https://localhost:8080/"
        },
        "id": "luV4_KoIaobz",
        "outputId": "911b48bf-1b2b-41e8-86dc-d36c151af9a4"
      },
      "outputs": [
        {
          "name": "stdout",
          "output_type": "stream",
          "text": [
            "[DEBUG]: Working Agent: Senior Research Analyst\n",
            "[INFO]: Starting Task: Conduct a comprehensive analysis of the latest advancements in AI in 2024.\n",
            "Identify key trends, breakthrough technologies, and potential industry impacts.\n",
            "Your final answer MUST be a full analysis report\n",
            "\n",
            "\n",
            "\u001b[1m> Entering new CrewAgentExecutor chain...\u001b[0m\n",
            "\u001b[32;1m\u001b[1;3mThought: Do I need to use a tool? Yes\n",
            "Action: Google Trends\n",
            "Action Input: Search for \"AI\" and \"Data Science\"\u001b[0mGoogle Trends is not a valid tool, try one of [].\u001b[32;1m\u001b[1;3mDo I need to use a tool? No\n",
            "Final Answer: **Comprehensive Analysis of the Latest Advancements in AI in 2024**\n",
            "\n",
            "**Introduction**\n",
            "\n",
            "Artificial intelligence (AI) has emerged as a transformative technology with the potential to revolutionize various industries and aspects of human life. In 2024, we witnessed significant advancements in AI, driven by breakthroughs in machine learning, natural language processing, and computer vision. This report provides a comprehensive analysis of the latest AI trends, breakthrough technologies, and their potential industry impacts.\n",
            "\n",
            "**Key Trends in AI**\n",
            "\n",
            "* **Generative AI:** Generative AI models, such as GPT-4 and DALL-E 2, have demonstrated remarkable capabilities in generating text, images, and other forms of content. These models are expected to have a profound impact on creative industries, media, and education.\n",
            "* **Edge AI:** Edge AI involves deploying AI models on devices with limited computational resources, such as smartphones and IoT devices. This trend enables real-time decision-making and autonomous operations in various applications, including healthcare, manufacturing, and transportation.\n",
            "* **Quantum Machine Learning:** Quantum computing has the potential to accelerate AI algorithms and enable the development of more powerful AI models. Quantum machine learning is still in its early stages, but it holds promise for solving complex problems in fields such as drug discovery and materials science.\n",
            "* **Automated Machine Learning (AutoML):** AutoML tools simplify the process of developing and deploying AI models by automating tasks such as data preparation, feature engineering, and model selection. This trend makes AI more accessible to non-technical users and enables faster innovation.\n",
            "* **AI for Good:** AI is increasingly being used to address social and environmental challenges. Applications include disaster response, healthcare equity, and climate change mitigation.\n",
            "\n",
            "**Breakthrough Technologies**\n",
            "\n",
            "* **Large Language Models (LLMs):** LLMs, such as GPT-3 and BLOOM, have achieved impressive performance in natural language understanding and generation tasks. They are being used in a wide range of applications, including chatbots, language translation, and content creation.\n",
            "* **Diffusion Models:** Diffusion models have revolutionized image generation by producing high-quality, realistic images. They are used in applications such as image editing, art creation, and medical imaging.\n",
            "* **Reinforcement Learning (RL):** RL algorithms enable AI agents to learn optimal behavior through trial and error. RL is being used in robotics, game playing, and autonomous systems.\n",
            "* **Federated Learning:** Federated learning allows multiple devices to train a shared AI model without sharing their data. This technique preserves data privacy while enabling collaboration and knowledge sharing.\n",
            "* **Quantum Neural Networks:** Quantum neural networks leverage the principles of quantum mechanics to enhance the performance of AI models. They are still in the research phase but have the potential to solve complex problems that are intractable for classical AI.\n",
            "\n",
            "**Potential Industry Impacts**\n",
            "\n",
            "* **Healthcare:** AI is transforming healthcare by enabling personalized medicine, early disease detection, and automated diagnosis. It is also used in drug discovery, medical imaging, and robotic surgery.\n",
            "* **Manufacturing:** AI is optimizing manufacturing processes, improving quality control, and enabling predictive maintenance. It is also used in robotics, supply chain management, and inventory optimization.\n",
            "* **Finance:** AI is used in fraud detection, risk assessment, and algorithmic trading. It is also enabling personalized financial advice and automated investment management.\n",
            "* **Transportation:** AI is powering autonomous vehicles, optimizing traffic flow, and improving safety. It is also used in logistics, fleet management, and ride-sharing services.\n",
            "* **Retail:** AI is enhancing customer experiences, personalizing recommendations, and optimizing inventory management. It is also used in fraud detection, supply chain optimization, and automated customer service.\n",
            "\n",
            "**Conclusion**\n",
            "\n",
            "The year 2024 witnessed significant advancements in AI, driven by breakthroughs in machine learning, natural language processing, and computer vision. Key trends include generative AI, edge AI, quantum machine learning, AutoML, and AI for good. Breakthrough technologies such as LLMs, diffusion models, RL, federated learning, and quantum neural networks are pushing the boundaries of AI capabilities. These advancements have the potential to transform various industries, including healthcare, manufacturing, finance, transportation, and retail. As AI continues to evolve, it is crucial to address ethical considerations, ensure responsible development, and harness its power for the benefit of society.\u001b[0m\n",
            "\n",
            "\u001b[1m> Finished chain.\u001b[0m\n",
            "[DEBUG]: [Senior Research Analyst] Task output: **Comprehensive Analysis of the Latest Advancements in AI in 2024**\n",
            "\n",
            "**Introduction**\n",
            "\n",
            "Artificial intelligence (AI) has emerged as a transformative technology with the potential to revolutionize various industries and aspects of human life. In 2024, we witnessed significant advancements in AI, driven by breakthroughs in machine learning, natural language processing, and computer vision. This report provides a comprehensive analysis of the latest AI trends, breakthrough technologies, and their potential industry impacts.\n",
            "\n",
            "**Key Trends in AI**\n",
            "\n",
            "* **Generative AI:** Generative AI models, such as GPT-4 and DALL-E 2, have demonstrated remarkable capabilities in generating text, images, and other forms of content. These models are expected to have a profound impact on creative industries, media, and education.\n",
            "* **Edge AI:** Edge AI involves deploying AI models on devices with limited computational resources, such as smartphones and IoT devices. This trend enables real-time decision-making and autonomous operations in various applications, including healthcare, manufacturing, and transportation.\n",
            "* **Quantum Machine Learning:** Quantum computing has the potential to accelerate AI algorithms and enable the development of more powerful AI models. Quantum machine learning is still in its early stages, but it holds promise for solving complex problems in fields such as drug discovery and materials science.\n",
            "* **Automated Machine Learning (AutoML):** AutoML tools simplify the process of developing and deploying AI models by automating tasks such as data preparation, feature engineering, and model selection. This trend makes AI more accessible to non-technical users and enables faster innovation.\n",
            "* **AI for Good:** AI is increasingly being used to address social and environmental challenges. Applications include disaster response, healthcare equity, and climate change mitigation.\n",
            "\n",
            "**Breakthrough Technologies**\n",
            "\n",
            "* **Large Language Models (LLMs):** LLMs, such as GPT-3 and BLOOM, have achieved impressive performance in natural language understanding and generation tasks. They are being used in a wide range of applications, including chatbots, language translation, and content creation.\n",
            "* **Diffusion Models:** Diffusion models have revolutionized image generation by producing high-quality, realistic images. They are used in applications such as image editing, art creation, and medical imaging.\n",
            "* **Reinforcement Learning (RL):** RL algorithms enable AI agents to learn optimal behavior through trial and error. RL is being used in robotics, game playing, and autonomous systems.\n",
            "* **Federated Learning:** Federated learning allows multiple devices to train a shared AI model without sharing their data. This technique preserves data privacy while enabling collaboration and knowledge sharing.\n",
            "* **Quantum Neural Networks:** Quantum neural networks leverage the principles of quantum mechanics to enhance the performance of AI models. They are still in the research phase but have the potential to solve complex problems that are intractable for classical AI.\n",
            "\n",
            "**Potential Industry Impacts**\n",
            "\n",
            "* **Healthcare:** AI is transforming healthcare by enabling personalized medicine, early disease detection, and automated diagnosis. It is also used in drug discovery, medical imaging, and robotic surgery.\n",
            "* **Manufacturing:** AI is optimizing manufacturing processes, improving quality control, and enabling predictive maintenance. It is also used in robotics, supply chain management, and inventory optimization.\n",
            "* **Finance:** AI is used in fraud detection, risk assessment, and algorithmic trading. It is also enabling personalized financial advice and automated investment management.\n",
            "* **Transportation:** AI is powering autonomous vehicles, optimizing traffic flow, and improving safety. It is also used in logistics, fleet management, and ride-sharing services.\n",
            "* **Retail:** AI is enhancing customer experiences, personalizing recommendations, and optimizing inventory management. It is also used in fraud detection, supply chain optimization, and automated customer service.\n",
            "\n",
            "**Conclusion**\n",
            "\n",
            "The year 2024 witnessed significant advancements in AI, driven by breakthroughs in machine learning, natural language processing, and computer vision. Key trends include generative AI, edge AI, quantum machine learning, AutoML, and AI for good. Breakthrough technologies such as LLMs, diffusion models, RL, federated learning, and quantum neural networks are pushing the boundaries of AI capabilities. These advancements have the potential to transform various industries, including healthcare, manufacturing, finance, transportation, and retail. As AI continues to evolve, it is crucial to address ethical considerations, ensure responsible development, and harness its power for the benefit of society.\n",
            "\n",
            "\n",
            "[DEBUG]: Working Agent: Tech Content Strategist\n",
            "[INFO]: Starting Task: Using the insights provided, develop an engaging blog\n",
            "post that highlights the most significant AI advancements.\n",
            "Your post should be informative yet accessible, catering to a tech-savvy audience.\n",
            "Make it sound cool, avoid complex words so it doesn't sound like AI.\n",
            "Your final answer MUST be the full blog post of at least 4 paragraphs.\n",
            "\n",
            "\n",
            "\u001b[1m> Entering new CrewAgentExecutor chain...\u001b[0m\n",
            "\u001b[32;1m\u001b[1;3mThought: Do I need to use a tool? No\n",
            "Final Answer: **AI Advancements: Reshaping the Future**\n",
            "\n",
            "In the realm of technology, artificial intelligence (AI) has emerged as a game-changer, propelling us towards a future where machines can think, learn, and adapt like never before. 2024 has been a banner year for AI, with groundbreaking advancements that have the potential to reshape industries and transform our lives.\n",
            "\n",
            "**Generative AI: Unleashing Creativity**\n",
            "\n",
            "Generative AI models like GPT-4 and DALL-E 2 have taken the world by storm with their ability to generate stunning text, images, and even music. These models are not just replicating existing content; they're creating entirely new and original works. Imagine a world where writers can collaborate with AI to craft captivating stories, or artists can bring their visions to life with AI-generated masterpieces.\n",
            "\n",
            "**Edge AI: Intelligence at the Edge**\n",
            "\n",
            "Edge AI brings the power of AI to devices like smartphones and IoT gadgets. These devices can now make real-time decisions and operate autonomously, opening up a world of possibilities. From self-driving cars that can navigate complex traffic patterns to smart homes that adjust to your preferences, edge AI is making our lives easier and more efficient.\n",
            "\n",
            "**Quantum Machine Learning: The Next Frontier**\n",
            "\n",
            "Quantum computing and AI are a match made in heaven. Quantum machine learning algorithms have the potential to solve problems that are currently impossible for classical computers. This could lead to breakthroughs in drug discovery, materials science, and other fields where complex simulations are essential.\n",
            "\n",
            "**AutoML: AI for Everyone**\n",
            "\n",
            "AutoML tools are making AI more accessible than ever before. These tools automate the complex tasks involved in developing and deploying AI models, allowing even non-technical users to harness the power of AI. This democratization of AI will lead to a surge of innovation and new applications that we can't even imagine yet.\n",
            "\n",
            "**AI for Good: Solving Global Challenges**\n",
            "\n",
            "AI is not just about making our lives easier; it's also about making the world a better place. AI is being used to address some of the most pressing challenges facing humanity, such as climate change, poverty, and disease. From disaster response to personalized healthcare, AI is proving to be an invaluable tool for creating a more just and sustainable future.\n",
            "\n",
            "As we look ahead, the future of AI is filled with both excitement and challenges. We must continue to invest in research and development, address ethical concerns, and ensure that AI is used for the benefit of all. The possibilities are endless, and the future of AI is in our hands.\u001b[0m\n",
            "\n",
            "\u001b[1m> Finished chain.\u001b[0m\n",
            "[DEBUG]: [Tech Content Strategist] Task output: **AI Advancements: Reshaping the Future**\n",
            "\n",
            "In the realm of technology, artificial intelligence (AI) has emerged as a game-changer, propelling us towards a future where machines can think, learn, and adapt like never before. 2024 has been a banner year for AI, with groundbreaking advancements that have the potential to reshape industries and transform our lives.\n",
            "\n",
            "**Generative AI: Unleashing Creativity**\n",
            "\n",
            "Generative AI models like GPT-4 and DALL-E 2 have taken the world by storm with their ability to generate stunning text, images, and even music. These models are not just replicating existing content; they're creating entirely new and original works. Imagine a world where writers can collaborate with AI to craft captivating stories, or artists can bring their visions to life with AI-generated masterpieces.\n",
            "\n",
            "**Edge AI: Intelligence at the Edge**\n",
            "\n",
            "Edge AI brings the power of AI to devices like smartphones and IoT gadgets. These devices can now make real-time decisions and operate autonomously, opening up a world of possibilities. From self-driving cars that can navigate complex traffic patterns to smart homes that adjust to your preferences, edge AI is making our lives easier and more efficient.\n",
            "\n",
            "**Quantum Machine Learning: The Next Frontier**\n",
            "\n",
            "Quantum computing and AI are a match made in heaven. Quantum machine learning algorithms have the potential to solve problems that are currently impossible for classical computers. This could lead to breakthroughs in drug discovery, materials science, and other fields where complex simulations are essential.\n",
            "\n",
            "**AutoML: AI for Everyone**\n",
            "\n",
            "AutoML tools are making AI more accessible than ever before. These tools automate the complex tasks involved in developing and deploying AI models, allowing even non-technical users to harness the power of AI. This democratization of AI will lead to a surge of innovation and new applications that we can't even imagine yet.\n",
            "\n",
            "**AI for Good: Solving Global Challenges**\n",
            "\n",
            "AI is not just about making our lives easier; it's also about making the world a better place. AI is being used to address some of the most pressing challenges facing humanity, such as climate change, poverty, and disease. From disaster response to personalized healthcare, AI is proving to be an invaluable tool for creating a more just and sustainable future.\n",
            "\n",
            "As we look ahead, the future of AI is filled with both excitement and challenges. We must continue to invest in research and development, address ethical concerns, and ensure that AI is used for the benefit of all. The possibilities are endless, and the future of AI is in our hands.\n",
            "\n",
            "\n",
            "######################\n"
          ]
        }
      ],
      "source": [
        "result = crew.kickoff()\n",
        "print(\"######################\")"
      ]
    },
    {
      "cell_type": "code",
      "execution_count": 62,
      "id": "3tHeFwf8aoe7",
      "metadata": {
        "colab": {
          "base_uri": "https://localhost:8080/"
        },
        "id": "3tHeFwf8aoe7",
        "outputId": "fa82f288-bd82-4c0c-d777-05d89b70a202"
      },
      "outputs": [
        {
          "name": "stdout",
          "output_type": "stream",
          "text": [
            "**AI Advancements: Reshaping the Future**\n",
            "\n",
            "In the realm of technology, artificial intelligence (AI) has emerged as a game-changer, propelling us towards a future where machines can think, learn, and adapt like never before. 2024 has been a banner year for AI, with groundbreaking advancements that have the potential to reshape industries and transform our lives.\n",
            "\n",
            "**Generative AI: Unleashing Creativity**\n",
            "\n",
            "Generative AI models like GPT-4 and DALL-E 2 have taken the world by storm with their ability to generate stunning text, images, and even music. These models are not just replicating existing content; they're creating entirely new and original works. Imagine a world where writers can collaborate with AI to craft captivating stories, or artists can bring their visions to life with AI-generated masterpieces.\n",
            "\n",
            "**Edge AI: Intelligence at the Edge**\n",
            "\n",
            "Edge AI brings the power of AI to devices like smartphones and IoT gadgets. These devices can now make real-time decisions and operate autonomously, opening up a world of possibilities. From self-driving cars that can navigate complex traffic patterns to smart homes that adjust to your preferences, edge AI is making our lives easier and more efficient.\n",
            "\n",
            "**Quantum Machine Learning: The Next Frontier**\n",
            "\n",
            "Quantum computing and AI are a match made in heaven. Quantum machine learning algorithms have the potential to solve problems that are currently impossible for classical computers. This could lead to breakthroughs in drug discovery, materials science, and other fields where complex simulations are essential.\n",
            "\n",
            "**AutoML: AI for Everyone**\n",
            "\n",
            "AutoML tools are making AI more accessible than ever before. These tools automate the complex tasks involved in developing and deploying AI models, allowing even non-technical users to harness the power of AI. This democratization of AI will lead to a surge of innovation and new applications that we can't even imagine yet.\n",
            "\n",
            "**AI for Good: Solving Global Challenges**\n",
            "\n",
            "AI is not just about making our lives easier; it's also about making the world a better place. AI is being used to address some of the most pressing challenges facing humanity, such as climate change, poverty, and disease. From disaster response to personalized healthcare, AI is proving to be an invaluable tool for creating a more just and sustainable future.\n",
            "\n",
            "As we look ahead, the future of AI is filled with both excitement and challenges. We must continue to invest in research and development, address ethical concerns, and ensure that AI is used for the benefit of all. The possibilities are endless, and the future of AI is in our hands.\n"
          ]
        }
      ],
      "source": [
        "print(result)"
      ]
    }
  ],
  "metadata": {
    "accelerator": "GPU",
    "colab": {
      "gpuType": "T4",
      "provenance": []
    },
    "kernelspec": {
      "display_name": "Python 3",
      "name": "python3"
    },
    "language_info": {
      "codemirror_mode": {
        "name": "ipython",
        "version": 3
      },
      "file_extension": ".py",
      "mimetype": "text/x-python",
      "name": "python",
      "nbconvert_exporter": "python",
      "pygments_lexer": "ipython3",
      "version": "3.10.12"
    },
    "widgets": {
      "application/vnd.jupyter.widget-state+json": {
        "066000f7ff9e49678cca3bda26328267": {
          "model_module": "@jupyter-widgets/base",
          "model_module_version": "1.2.0",
          "model_name": "LayoutModel",
          "state": {
            "_model_module": "@jupyter-widgets/base",
            "_model_module_version": "1.2.0",
            "_model_name": "LayoutModel",
            "_view_count": null,
            "_view_module": "@jupyter-widgets/base",
            "_view_module_version": "1.2.0",
            "_view_name": "LayoutView",
            "align_content": null,
            "align_items": null,
            "align_self": null,
            "border": null,
            "bottom": null,
            "display": null,
            "flex": null,
            "flex_flow": null,
            "grid_area": null,
            "grid_auto_columns": null,
            "grid_auto_flow": null,
            "grid_auto_rows": null,
            "grid_column": null,
            "grid_gap": null,
            "grid_row": null,
            "grid_template_areas": null,
            "grid_template_columns": null,
            "grid_template_rows": null,
            "height": null,
            "justify_content": null,
            "justify_items": null,
            "left": null,
            "margin": null,
            "max_height": null,
            "max_width": null,
            "min_height": null,
            "min_width": null,
            "object_fit": null,
            "object_position": null,
            "order": null,
            "overflow": null,
            "overflow_x": null,
            "overflow_y": null,
            "padding": null,
            "right": null,
            "top": null,
            "visibility": null,
            "width": null
          }
        },
        "0eb26796e4ca440593250b679c98af6f": {
          "model_module": "@jupyter-widgets/controls",
          "model_module_version": "1.5.0",
          "model_name": "DescriptionStyleModel",
          "state": {
            "_model_module": "@jupyter-widgets/controls",
            "_model_module_version": "1.5.0",
            "_model_name": "DescriptionStyleModel",
            "_view_count": null,
            "_view_module": "@jupyter-widgets/base",
            "_view_module_version": "1.2.0",
            "_view_name": "StyleView",
            "description_width": ""
          }
        },
        "0ec6a153f1734fa69e3fc23933012cfc": {
          "model_module": "@jupyter-widgets/base",
          "model_module_version": "1.2.0",
          "model_name": "LayoutModel",
          "state": {
            "_model_module": "@jupyter-widgets/base",
            "_model_module_version": "1.2.0",
            "_model_name": "LayoutModel",
            "_view_count": null,
            "_view_module": "@jupyter-widgets/base",
            "_view_module_version": "1.2.0",
            "_view_name": "LayoutView",
            "align_content": null,
            "align_items": null,
            "align_self": null,
            "border": null,
            "bottom": null,
            "display": null,
            "flex": null,
            "flex_flow": null,
            "grid_area": null,
            "grid_auto_columns": null,
            "grid_auto_flow": null,
            "grid_auto_rows": null,
            "grid_column": null,
            "grid_gap": null,
            "grid_row": null,
            "grid_template_areas": null,
            "grid_template_columns": null,
            "grid_template_rows": null,
            "height": null,
            "justify_content": null,
            "justify_items": null,
            "left": null,
            "margin": null,
            "max_height": null,
            "max_width": null,
            "min_height": null,
            "min_width": null,
            "object_fit": null,
            "object_position": null,
            "order": null,
            "overflow": null,
            "overflow_x": null,
            "overflow_y": null,
            "padding": null,
            "right": null,
            "top": null,
            "visibility": null,
            "width": null
          }
        },
        "0eee8fc844af423bbea3ed20c7bb0c61": {
          "model_module": "@jupyter-widgets/base",
          "model_module_version": "1.2.0",
          "model_name": "LayoutModel",
          "state": {
            "_model_module": "@jupyter-widgets/base",
            "_model_module_version": "1.2.0",
            "_model_name": "LayoutModel",
            "_view_count": null,
            "_view_module": "@jupyter-widgets/base",
            "_view_module_version": "1.2.0",
            "_view_name": "LayoutView",
            "align_content": null,
            "align_items": null,
            "align_self": null,
            "border": null,
            "bottom": null,
            "display": null,
            "flex": null,
            "flex_flow": null,
            "grid_area": null,
            "grid_auto_columns": null,
            "grid_auto_flow": null,
            "grid_auto_rows": null,
            "grid_column": null,
            "grid_gap": null,
            "grid_row": null,
            "grid_template_areas": null,
            "grid_template_columns": null,
            "grid_template_rows": null,
            "height": null,
            "justify_content": null,
            "justify_items": null,
            "left": null,
            "margin": null,
            "max_height": null,
            "max_width": null,
            "min_height": null,
            "min_width": null,
            "object_fit": null,
            "object_position": null,
            "order": null,
            "overflow": null,
            "overflow_x": null,
            "overflow_y": null,
            "padding": null,
            "right": null,
            "top": null,
            "visibility": null,
            "width": null
          }
        },
        "10624a85196a4db3ab18faebb168024e": {
          "model_module": "@jupyter-widgets/controls",
          "model_module_version": "1.5.0",
          "model_name": "HBoxModel",
          "state": {
            "_dom_classes": [],
            "_model_module": "@jupyter-widgets/controls",
            "_model_module_version": "1.5.0",
            "_model_name": "HBoxModel",
            "_view_count": null,
            "_view_module": "@jupyter-widgets/controls",
            "_view_module_version": "1.5.0",
            "_view_name": "HBoxView",
            "box_style": "",
            "children": [
              "IPY_MODEL_c6abd6b026854e16a8a7db571ea5cc5b",
              "IPY_MODEL_43042d5548fc4633bfab93f3bcc9986b",
              "IPY_MODEL_414dd4d13a9c43b898a1acc6c558e110"
            ],
            "layout": "IPY_MODEL_374ceed68fec401592f4b1997f229783"
          }
        },
        "12fbdc1003ba427fb2f0d2de18f7c47f": {
          "model_module": "@jupyter-widgets/base",
          "model_module_version": "1.2.0",
          "model_name": "LayoutModel",
          "state": {
            "_model_module": "@jupyter-widgets/base",
            "_model_module_version": "1.2.0",
            "_model_name": "LayoutModel",
            "_view_count": null,
            "_view_module": "@jupyter-widgets/base",
            "_view_module_version": "1.2.0",
            "_view_name": "LayoutView",
            "align_content": null,
            "align_items": null,
            "align_self": null,
            "border": null,
            "bottom": null,
            "display": null,
            "flex": null,
            "flex_flow": null,
            "grid_area": null,
            "grid_auto_columns": null,
            "grid_auto_flow": null,
            "grid_auto_rows": null,
            "grid_column": null,
            "grid_gap": null,
            "grid_row": null,
            "grid_template_areas": null,
            "grid_template_columns": null,
            "grid_template_rows": null,
            "height": null,
            "justify_content": null,
            "justify_items": null,
            "left": null,
            "margin": null,
            "max_height": null,
            "max_width": null,
            "min_height": null,
            "min_width": null,
            "object_fit": null,
            "object_position": null,
            "order": null,
            "overflow": null,
            "overflow_x": null,
            "overflow_y": null,
            "padding": null,
            "right": null,
            "top": null,
            "visibility": null,
            "width": null
          }
        },
        "1525952101aa4fd0865b6cbc22e94825": {
          "model_module": "@jupyter-widgets/controls",
          "model_module_version": "1.5.0",
          "model_name": "HBoxModel",
          "state": {
            "_dom_classes": [],
            "_model_module": "@jupyter-widgets/controls",
            "_model_module_version": "1.5.0",
            "_model_name": "HBoxModel",
            "_view_count": null,
            "_view_module": "@jupyter-widgets/controls",
            "_view_module_version": "1.5.0",
            "_view_name": "HBoxView",
            "box_style": "",
            "children": [
              "IPY_MODEL_af3de7a8c1044b4bbc91691e806c51ff",
              "IPY_MODEL_aa770db53a16496998563ad14a7eb9ee",
              "IPY_MODEL_e647da2860034d9b85be15ed1a721ea5"
            ],
            "layout": "IPY_MODEL_df30074b15d74406b8156e65af8a2cf3"
          }
        },
        "2030d8e5efca4a12b0889e7bd04ea8b5": {
          "model_module": "@jupyter-widgets/controls",
          "model_module_version": "1.5.0",
          "model_name": "FloatProgressModel",
          "state": {
            "_dom_classes": [],
            "_model_module": "@jupyter-widgets/controls",
            "_model_module_version": "1.5.0",
            "_model_name": "FloatProgressModel",
            "_view_count": null,
            "_view_module": "@jupyter-widgets/controls",
            "_view_module_version": "1.5.0",
            "_view_name": "ProgressView",
            "bar_style": "success",
            "description": "",
            "description_tooltip": null,
            "layout": "IPY_MODEL_735f5c10850a41d89ec083a018681134",
            "max": 115434268,
            "min": 0,
            "orientation": "horizontal",
            "style": "IPY_MODEL_bef9c3cd55754eea99b0dad99f049360",
            "value": 115434268
          }
        },
        "27e87e32140d4abb88f07835efecf7dd": {
          "model_module": "@jupyter-widgets/base",
          "model_module_version": "1.2.0",
          "model_name": "LayoutModel",
          "state": {
            "_model_module": "@jupyter-widgets/base",
            "_model_module_version": "1.2.0",
            "_model_name": "LayoutModel",
            "_view_count": null,
            "_view_module": "@jupyter-widgets/base",
            "_view_module_version": "1.2.0",
            "_view_name": "LayoutView",
            "align_content": null,
            "align_items": null,
            "align_self": null,
            "border": null,
            "bottom": null,
            "display": null,
            "flex": null,
            "flex_flow": null,
            "grid_area": null,
            "grid_auto_columns": null,
            "grid_auto_flow": null,
            "grid_auto_rows": null,
            "grid_column": null,
            "grid_gap": null,
            "grid_row": null,
            "grid_template_areas": null,
            "grid_template_columns": null,
            "grid_template_rows": null,
            "height": null,
            "justify_content": null,
            "justify_items": null,
            "left": null,
            "margin": null,
            "max_height": null,
            "max_width": null,
            "min_height": null,
            "min_width": null,
            "object_fit": null,
            "object_position": null,
            "order": null,
            "overflow": null,
            "overflow_x": null,
            "overflow_y": null,
            "padding": null,
            "right": null,
            "top": null,
            "visibility": null,
            "width": null
          }
        },
        "2a79f29e14de48c6972cd1a4e0b51845": {
          "model_module": "@jupyter-widgets/controls",
          "model_module_version": "1.5.0",
          "model_name": "ProgressStyleModel",
          "state": {
            "_model_module": "@jupyter-widgets/controls",
            "_model_module_version": "1.5.0",
            "_model_name": "ProgressStyleModel",
            "_view_count": null,
            "_view_module": "@jupyter-widgets/base",
            "_view_module_version": "1.2.0",
            "_view_name": "StyleView",
            "bar_color": null,
            "description_width": ""
          }
        },
        "2d945d069f6444158475993425286d33": {
          "model_module": "@jupyter-widgets/base",
          "model_module_version": "1.2.0",
          "model_name": "LayoutModel",
          "state": {
            "_model_module": "@jupyter-widgets/base",
            "_model_module_version": "1.2.0",
            "_model_name": "LayoutModel",
            "_view_count": null,
            "_view_module": "@jupyter-widgets/base",
            "_view_module_version": "1.2.0",
            "_view_name": "LayoutView",
            "align_content": null,
            "align_items": null,
            "align_self": null,
            "border": null,
            "bottom": null,
            "display": null,
            "flex": null,
            "flex_flow": null,
            "grid_area": null,
            "grid_auto_columns": null,
            "grid_auto_flow": null,
            "grid_auto_rows": null,
            "grid_column": null,
            "grid_gap": null,
            "grid_row": null,
            "grid_template_areas": null,
            "grid_template_columns": null,
            "grid_template_rows": null,
            "height": null,
            "justify_content": null,
            "justify_items": null,
            "left": null,
            "margin": null,
            "max_height": null,
            "max_width": null,
            "min_height": null,
            "min_width": null,
            "object_fit": null,
            "object_position": null,
            "order": null,
            "overflow": null,
            "overflow_x": null,
            "overflow_y": null,
            "padding": null,
            "right": null,
            "top": null,
            "visibility": null,
            "width": null
          }
        },
        "2e2cf5cee72348db8beff78565bd06ca": {
          "model_module": "@jupyter-widgets/base",
          "model_module_version": "1.2.0",
          "model_name": "LayoutModel",
          "state": {
            "_model_module": "@jupyter-widgets/base",
            "_model_module_version": "1.2.0",
            "_model_name": "LayoutModel",
            "_view_count": null,
            "_view_module": "@jupyter-widgets/base",
            "_view_module_version": "1.2.0",
            "_view_name": "LayoutView",
            "align_content": null,
            "align_items": null,
            "align_self": null,
            "border": null,
            "bottom": null,
            "display": null,
            "flex": null,
            "flex_flow": null,
            "grid_area": null,
            "grid_auto_columns": null,
            "grid_auto_flow": null,
            "grid_auto_rows": null,
            "grid_column": null,
            "grid_gap": null,
            "grid_row": null,
            "grid_template_areas": null,
            "grid_template_columns": null,
            "grid_template_rows": null,
            "height": null,
            "justify_content": null,
            "justify_items": null,
            "left": null,
            "margin": null,
            "max_height": null,
            "max_width": null,
            "min_height": null,
            "min_width": null,
            "object_fit": null,
            "object_position": null,
            "order": null,
            "overflow": null,
            "overflow_x": null,
            "overflow_y": null,
            "padding": null,
            "right": null,
            "top": null,
            "visibility": null,
            "width": null
          }
        },
        "2f0df68e7a0243908882355bb6ed75ca": {
          "model_module": "@jupyter-widgets/controls",
          "model_module_version": "1.5.0",
          "model_name": "DescriptionStyleModel",
          "state": {
            "_model_module": "@jupyter-widgets/controls",
            "_model_module_version": "1.5.0",
            "_model_name": "DescriptionStyleModel",
            "_view_count": null,
            "_view_module": "@jupyter-widgets/base",
            "_view_module_version": "1.2.0",
            "_view_name": "StyleView",
            "description_width": ""
          }
        },
        "374ceed68fec401592f4b1997f229783": {
          "model_module": "@jupyter-widgets/base",
          "model_module_version": "1.2.0",
          "model_name": "LayoutModel",
          "state": {
            "_model_module": "@jupyter-widgets/base",
            "_model_module_version": "1.2.0",
            "_model_name": "LayoutModel",
            "_view_count": null,
            "_view_module": "@jupyter-widgets/base",
            "_view_module_version": "1.2.0",
            "_view_name": "LayoutView",
            "align_content": null,
            "align_items": null,
            "align_self": null,
            "border": null,
            "bottom": null,
            "display": null,
            "flex": null,
            "flex_flow": null,
            "grid_area": null,
            "grid_auto_columns": null,
            "grid_auto_flow": null,
            "grid_auto_rows": null,
            "grid_column": null,
            "grid_gap": null,
            "grid_row": null,
            "grid_template_areas": null,
            "grid_template_columns": null,
            "grid_template_rows": null,
            "height": null,
            "justify_content": null,
            "justify_items": null,
            "left": null,
            "margin": null,
            "max_height": null,
            "max_width": null,
            "min_height": null,
            "min_width": null,
            "object_fit": null,
            "object_position": null,
            "order": null,
            "overflow": null,
            "overflow_x": null,
            "overflow_y": null,
            "padding": null,
            "right": null,
            "top": null,
            "visibility": null,
            "width": null
          }
        },
        "3f661d6d5a0541d5a6652e2a1ef38676": {
          "model_module": "@jupyter-widgets/controls",
          "model_module_version": "1.5.0",
          "model_name": "HBoxModel",
          "state": {
            "_dom_classes": [],
            "_model_module": "@jupyter-widgets/controls",
            "_model_module_version": "1.5.0",
            "_model_name": "HBoxModel",
            "_view_count": null,
            "_view_module": "@jupyter-widgets/controls",
            "_view_module_version": "1.5.0",
            "_view_name": "HBoxView",
            "box_style": "",
            "children": [
              "IPY_MODEL_b7690ccf67de418b916aa176dce366bf",
              "IPY_MODEL_2030d8e5efca4a12b0889e7bd04ea8b5",
              "IPY_MODEL_92d74d928eca41c9b142a3b7fee8bf14"
            ],
            "layout": "IPY_MODEL_2e2cf5cee72348db8beff78565bd06ca"
          }
        },
        "40628761c67c498f8a677f3c0cbc831e": {
          "model_module": "@jupyter-widgets/base",
          "model_module_version": "1.2.0",
          "model_name": "LayoutModel",
          "state": {
            "_model_module": "@jupyter-widgets/base",
            "_model_module_version": "1.2.0",
            "_model_name": "LayoutModel",
            "_view_count": null,
            "_view_module": "@jupyter-widgets/base",
            "_view_module_version": "1.2.0",
            "_view_name": "LayoutView",
            "align_content": null,
            "align_items": null,
            "align_self": null,
            "border": null,
            "bottom": null,
            "display": null,
            "flex": null,
            "flex_flow": null,
            "grid_area": null,
            "grid_auto_columns": null,
            "grid_auto_flow": null,
            "grid_auto_rows": null,
            "grid_column": null,
            "grid_gap": null,
            "grid_row": null,
            "grid_template_areas": null,
            "grid_template_columns": null,
            "grid_template_rows": null,
            "height": null,
            "justify_content": null,
            "justify_items": null,
            "left": null,
            "margin": null,
            "max_height": null,
            "max_width": null,
            "min_height": null,
            "min_width": null,
            "object_fit": null,
            "object_position": null,
            "order": null,
            "overflow": null,
            "overflow_x": null,
            "overflow_y": null,
            "padding": null,
            "right": null,
            "top": null,
            "visibility": null,
            "width": null
          }
        },
        "414dd4d13a9c43b898a1acc6c558e110": {
          "model_module": "@jupyter-widgets/controls",
          "model_module_version": "1.5.0",
          "model_name": "HTMLModel",
          "state": {
            "_dom_classes": [],
            "_model_module": "@jupyter-widgets/controls",
            "_model_module_version": "1.5.0",
            "_model_name": "HTMLModel",
            "_view_count": null,
            "_view_module": "@jupyter-widgets/controls",
            "_view_module_version": "1.5.0",
            "_view_name": "HTMLView",
            "description": "",
            "description_tooltip": null,
            "layout": "IPY_MODEL_0ec6a153f1734fa69e3fc23933012cfc",
            "placeholder": "​",
            "style": "IPY_MODEL_7d91e07c4931483a82548e0f09fdb686",
            "value": " 46.8M/46.8M [00:00&lt;00:00, 200MB/s]"
          }
        },
        "43042d5548fc4633bfab93f3bcc9986b": {
          "model_module": "@jupyter-widgets/controls",
          "model_module_version": "1.5.0",
          "model_name": "FloatProgressModel",
          "state": {
            "_dom_classes": [],
            "_model_module": "@jupyter-widgets/controls",
            "_model_module_version": "1.5.0",
            "_model_name": "FloatProgressModel",
            "_view_count": null,
            "_view_module": "@jupyter-widgets/controls",
            "_view_module_version": "1.5.0",
            "_view_name": "ProgressView",
            "bar_style": "success",
            "description": "",
            "description_tooltip": null,
            "layout": "IPY_MODEL_e41e2ee57f264ff988bb56df16ac5f7a",
            "max": 46807446,
            "min": 0,
            "orientation": "horizontal",
            "style": "IPY_MODEL_953bc03a15d14674abb96b459a52eff0",
            "value": 46807446
          }
        },
        "4a7315e99fe44dc09caa7f2b0a0a5bae": {
          "model_module": "@jupyter-widgets/controls",
          "model_module_version": "1.5.0",
          "model_name": "HTMLModel",
          "state": {
            "_dom_classes": [],
            "_model_module": "@jupyter-widgets/controls",
            "_model_module_version": "1.5.0",
            "_model_name": "HTMLModel",
            "_view_count": null,
            "_view_module": "@jupyter-widgets/controls",
            "_view_module_version": "1.5.0",
            "_view_name": "HTMLView",
            "description": "",
            "description_tooltip": null,
            "layout": "IPY_MODEL_5784447d7de4465f8fcf50327349137e",
            "placeholder": "​",
            "style": "IPY_MODEL_706cfce1d29e44de84f8409c101472be",
            "value": " 1.47k/1.47k [00:00&lt;00:00, 77.2kB/s]"
          }
        },
        "4b9a8fa2bdae44c2965a58fea57d8b11": {
          "model_module": "@jupyter-widgets/controls",
          "model_module_version": "1.5.0",
          "model_name": "HTMLModel",
          "state": {
            "_dom_classes": [],
            "_model_module": "@jupyter-widgets/controls",
            "_model_module_version": "1.5.0",
            "_model_name": "HTMLModel",
            "_view_count": null,
            "_view_module": "@jupyter-widgets/controls",
            "_view_module_version": "1.5.0",
            "_view_name": "HTMLView",
            "description": "",
            "description_tooltip": null,
            "layout": "IPY_MODEL_60da93f4d1e048179c4124e5cded9880",
            "placeholder": "​",
            "style": "IPY_MODEL_71731a574ef94e50a36631234c66f4f4",
            "value": "config.json: 100%"
          }
        },
        "5158c6fa6a9f41029027f04b4232f13a": {
          "model_module": "@jupyter-widgets/controls",
          "model_module_version": "1.5.0",
          "model_name": "DescriptionStyleModel",
          "state": {
            "_model_module": "@jupyter-widgets/controls",
            "_model_module_version": "1.5.0",
            "_model_name": "DescriptionStyleModel",
            "_view_count": null,
            "_view_module": "@jupyter-widgets/base",
            "_view_module_version": "1.2.0",
            "_view_name": "StyleView",
            "description_width": ""
          }
        },
        "5784447d7de4465f8fcf50327349137e": {
          "model_module": "@jupyter-widgets/base",
          "model_module_version": "1.2.0",
          "model_name": "LayoutModel",
          "state": {
            "_model_module": "@jupyter-widgets/base",
            "_model_module_version": "1.2.0",
            "_model_name": "LayoutModel",
            "_view_count": null,
            "_view_module": "@jupyter-widgets/base",
            "_view_module_version": "1.2.0",
            "_view_name": "LayoutView",
            "align_content": null,
            "align_items": null,
            "align_self": null,
            "border": null,
            "bottom": null,
            "display": null,
            "flex": null,
            "flex_flow": null,
            "grid_area": null,
            "grid_auto_columns": null,
            "grid_auto_flow": null,
            "grid_auto_rows": null,
            "grid_column": null,
            "grid_gap": null,
            "grid_row": null,
            "grid_template_areas": null,
            "grid_template_columns": null,
            "grid_template_rows": null,
            "height": null,
            "justify_content": null,
            "justify_items": null,
            "left": null,
            "margin": null,
            "max_height": null,
            "max_width": null,
            "min_height": null,
            "min_width": null,
            "object_fit": null,
            "object_position": null,
            "order": null,
            "overflow": null,
            "overflow_x": null,
            "overflow_y": null,
            "padding": null,
            "right": null,
            "top": null,
            "visibility": null,
            "width": null
          }
        },
        "60da93f4d1e048179c4124e5cded9880": {
          "model_module": "@jupyter-widgets/base",
          "model_module_version": "1.2.0",
          "model_name": "LayoutModel",
          "state": {
            "_model_module": "@jupyter-widgets/base",
            "_model_module_version": "1.2.0",
            "_model_name": "LayoutModel",
            "_view_count": null,
            "_view_module": "@jupyter-widgets/base",
            "_view_module_version": "1.2.0",
            "_view_name": "LayoutView",
            "align_content": null,
            "align_items": null,
            "align_self": null,
            "border": null,
            "bottom": null,
            "display": null,
            "flex": null,
            "flex_flow": null,
            "grid_area": null,
            "grid_auto_columns": null,
            "grid_auto_flow": null,
            "grid_auto_rows": null,
            "grid_column": null,
            "grid_gap": null,
            "grid_row": null,
            "grid_template_areas": null,
            "grid_template_columns": null,
            "grid_template_rows": null,
            "height": null,
            "justify_content": null,
            "justify_items": null,
            "left": null,
            "margin": null,
            "max_height": null,
            "max_width": null,
            "min_height": null,
            "min_width": null,
            "object_fit": null,
            "object_position": null,
            "order": null,
            "overflow": null,
            "overflow_x": null,
            "overflow_y": null,
            "padding": null,
            "right": null,
            "top": null,
            "visibility": null,
            "width": null
          }
        },
        "706cfce1d29e44de84f8409c101472be": {
          "model_module": "@jupyter-widgets/controls",
          "model_module_version": "1.5.0",
          "model_name": "DescriptionStyleModel",
          "state": {
            "_model_module": "@jupyter-widgets/controls",
            "_model_module_version": "1.5.0",
            "_model_name": "DescriptionStyleModel",
            "_view_count": null,
            "_view_module": "@jupyter-widgets/base",
            "_view_module_version": "1.2.0",
            "_view_name": "StyleView",
            "description_width": ""
          }
        },
        "71731a574ef94e50a36631234c66f4f4": {
          "model_module": "@jupyter-widgets/controls",
          "model_module_version": "1.5.0",
          "model_name": "DescriptionStyleModel",
          "state": {
            "_model_module": "@jupyter-widgets/controls",
            "_model_module_version": "1.5.0",
            "_model_name": "DescriptionStyleModel",
            "_view_count": null,
            "_view_module": "@jupyter-widgets/base",
            "_view_module_version": "1.2.0",
            "_view_name": "StyleView",
            "description_width": ""
          }
        },
        "7288cbaf26214dd0adcda46639b98ebe": {
          "model_module": "@jupyter-widgets/controls",
          "model_module_version": "1.5.0",
          "model_name": "ProgressStyleModel",
          "state": {
            "_model_module": "@jupyter-widgets/controls",
            "_model_module_version": "1.5.0",
            "_model_name": "ProgressStyleModel",
            "_view_count": null,
            "_view_module": "@jupyter-widgets/base",
            "_view_module_version": "1.2.0",
            "_view_name": "StyleView",
            "bar_color": null,
            "description_width": ""
          }
        },
        "735f5c10850a41d89ec083a018681134": {
          "model_module": "@jupyter-widgets/base",
          "model_module_version": "1.2.0",
          "model_name": "LayoutModel",
          "state": {
            "_model_module": "@jupyter-widgets/base",
            "_model_module_version": "1.2.0",
            "_model_name": "LayoutModel",
            "_view_count": null,
            "_view_module": "@jupyter-widgets/base",
            "_view_module_version": "1.2.0",
            "_view_name": "LayoutView",
            "align_content": null,
            "align_items": null,
            "align_self": null,
            "border": null,
            "bottom": null,
            "display": null,
            "flex": null,
            "flex_flow": null,
            "grid_area": null,
            "grid_auto_columns": null,
            "grid_auto_flow": null,
            "grid_auto_rows": null,
            "grid_column": null,
            "grid_gap": null,
            "grid_row": null,
            "grid_template_areas": null,
            "grid_template_columns": null,
            "grid_template_rows": null,
            "height": null,
            "justify_content": null,
            "justify_items": null,
            "left": null,
            "margin": null,
            "max_height": null,
            "max_width": null,
            "min_height": null,
            "min_width": null,
            "object_fit": null,
            "object_position": null,
            "order": null,
            "overflow": null,
            "overflow_x": null,
            "overflow_y": null,
            "padding": null,
            "right": null,
            "top": null,
            "visibility": null,
            "width": null
          }
        },
        "7d91e07c4931483a82548e0f09fdb686": {
          "model_module": "@jupyter-widgets/controls",
          "model_module_version": "1.5.0",
          "model_name": "DescriptionStyleModel",
          "state": {
            "_model_module": "@jupyter-widgets/controls",
            "_model_module_version": "1.5.0",
            "_model_name": "DescriptionStyleModel",
            "_view_count": null,
            "_view_module": "@jupyter-widgets/base",
            "_view_module_version": "1.2.0",
            "_view_name": "StyleView",
            "description_width": ""
          }
        },
        "7e9a2be80acc41c1a994abfc2e59823b": {
          "model_module": "@jupyter-widgets/base",
          "model_module_version": "1.2.0",
          "model_name": "LayoutModel",
          "state": {
            "_model_module": "@jupyter-widgets/base",
            "_model_module_version": "1.2.0",
            "_model_name": "LayoutModel",
            "_view_count": null,
            "_view_module": "@jupyter-widgets/base",
            "_view_module_version": "1.2.0",
            "_view_name": "LayoutView",
            "align_content": null,
            "align_items": null,
            "align_self": null,
            "border": null,
            "bottom": null,
            "display": null,
            "flex": null,
            "flex_flow": null,
            "grid_area": null,
            "grid_auto_columns": null,
            "grid_auto_flow": null,
            "grid_auto_rows": null,
            "grid_column": null,
            "grid_gap": null,
            "grid_row": null,
            "grid_template_areas": null,
            "grid_template_columns": null,
            "grid_template_rows": null,
            "height": null,
            "justify_content": null,
            "justify_items": null,
            "left": null,
            "margin": null,
            "max_height": null,
            "max_width": null,
            "min_height": null,
            "min_width": null,
            "object_fit": null,
            "object_position": null,
            "order": null,
            "overflow": null,
            "overflow_x": null,
            "overflow_y": null,
            "padding": null,
            "right": null,
            "top": null,
            "visibility": null,
            "width": null
          }
        },
        "85328b5b02c4463ba4066df53b4ccacf": {
          "model_module": "@jupyter-widgets/controls",
          "model_module_version": "1.5.0",
          "model_name": "HBoxModel",
          "state": {
            "_dom_classes": [],
            "_model_module": "@jupyter-widgets/controls",
            "_model_module_version": "1.5.0",
            "_model_name": "HBoxModel",
            "_view_count": null,
            "_view_module": "@jupyter-widgets/controls",
            "_view_module_version": "1.5.0",
            "_view_name": "HBoxView",
            "box_style": "",
            "children": [
              "IPY_MODEL_4b9a8fa2bdae44c2965a58fea57d8b11",
              "IPY_MODEL_d80a6a11da6f4cfd85b978a82963798b",
              "IPY_MODEL_4a7315e99fe44dc09caa7f2b0a0a5bae"
            ],
            "layout": "IPY_MODEL_cf2a39352c61412cae872e58d0502b16"
          }
        },
        "92d74d928eca41c9b142a3b7fee8bf14": {
          "model_module": "@jupyter-widgets/controls",
          "model_module_version": "1.5.0",
          "model_name": "HTMLModel",
          "state": {
            "_dom_classes": [],
            "_model_module": "@jupyter-widgets/controls",
            "_model_module_version": "1.5.0",
            "_model_name": "HTMLModel",
            "_view_count": null,
            "_view_module": "@jupyter-widgets/controls",
            "_view_module_version": "1.5.0",
            "_view_name": "HTMLView",
            "description": "",
            "description_tooltip": null,
            "layout": "IPY_MODEL_2d945d069f6444158475993425286d33",
            "placeholder": "​",
            "style": "IPY_MODEL_5158c6fa6a9f41029027f04b4232f13a",
            "value": " 115M/115M [00:01&lt;00:00, 114MB/s]"
          }
        },
        "952d2cf23e084aa693683f825e04ded5": {
          "model_module": "@jupyter-widgets/controls",
          "model_module_version": "1.5.0",
          "model_name": "DescriptionStyleModel",
          "state": {
            "_model_module": "@jupyter-widgets/controls",
            "_model_module_version": "1.5.0",
            "_model_name": "DescriptionStyleModel",
            "_view_count": null,
            "_view_module": "@jupyter-widgets/base",
            "_view_module_version": "1.2.0",
            "_view_name": "StyleView",
            "description_width": ""
          }
        },
        "953bc03a15d14674abb96b459a52eff0": {
          "model_module": "@jupyter-widgets/controls",
          "model_module_version": "1.5.0",
          "model_name": "ProgressStyleModel",
          "state": {
            "_model_module": "@jupyter-widgets/controls",
            "_model_module_version": "1.5.0",
            "_model_name": "ProgressStyleModel",
            "_view_count": null,
            "_view_module": "@jupyter-widgets/base",
            "_view_module_version": "1.2.0",
            "_view_name": "StyleView",
            "bar_color": null,
            "description_width": ""
          }
        },
        "96aab3e127ac454d825d00ce9d8c5cc8": {
          "model_module": "@jupyter-widgets/controls",
          "model_module_version": "1.5.0",
          "model_name": "DescriptionStyleModel",
          "state": {
            "_model_module": "@jupyter-widgets/controls",
            "_model_module_version": "1.5.0",
            "_model_name": "DescriptionStyleModel",
            "_view_count": null,
            "_view_module": "@jupyter-widgets/base",
            "_view_module_version": "1.2.0",
            "_view_name": "StyleView",
            "description_width": ""
          }
        },
        "aa770db53a16496998563ad14a7eb9ee": {
          "model_module": "@jupyter-widgets/controls",
          "model_module_version": "1.5.0",
          "model_name": "FloatProgressModel",
          "state": {
            "_dom_classes": [],
            "_model_module": "@jupyter-widgets/controls",
            "_model_module_version": "1.5.0",
            "_model_name": "FloatProgressModel",
            "_view_count": null,
            "_view_module": "@jupyter-widgets/controls",
            "_view_module_version": "1.5.0",
            "_view_name": "ProgressView",
            "bar_style": "success",
            "description": "",
            "description_tooltip": null,
            "layout": "IPY_MODEL_12fbdc1003ba427fb2f0d2de18f7c47f",
            "max": 54599886,
            "min": 0,
            "orientation": "horizontal",
            "style": "IPY_MODEL_2a79f29e14de48c6972cd1a4e0b51845",
            "value": 54599886
          }
        },
        "af3de7a8c1044b4bbc91691e806c51ff": {
          "model_module": "@jupyter-widgets/controls",
          "model_module_version": "1.5.0",
          "model_name": "HTMLModel",
          "state": {
            "_dom_classes": [],
            "_model_module": "@jupyter-widgets/controls",
            "_model_module_version": "1.5.0",
            "_model_name": "HTMLModel",
            "_view_count": null,
            "_view_module": "@jupyter-widgets/controls",
            "_view_module_version": "1.5.0",
            "_view_name": "HTMLView",
            "description": "",
            "description_tooltip": null,
            "layout": "IPY_MODEL_0eee8fc844af423bbea3ed20c7bb0c61",
            "placeholder": "​",
            "style": "IPY_MODEL_952d2cf23e084aa693683f825e04ded5",
            "value": "yolox_l0.05_quantized.onnx: 100%"
          }
        },
        "b7690ccf67de418b916aa176dce366bf": {
          "model_module": "@jupyter-widgets/controls",
          "model_module_version": "1.5.0",
          "model_name": "HTMLModel",
          "state": {
            "_dom_classes": [],
            "_model_module": "@jupyter-widgets/controls",
            "_model_module_version": "1.5.0",
            "_model_name": "HTMLModel",
            "_view_count": null,
            "_view_module": "@jupyter-widgets/controls",
            "_view_module_version": "1.5.0",
            "_view_name": "HTMLView",
            "description": "",
            "description_tooltip": null,
            "layout": "IPY_MODEL_066000f7ff9e49678cca3bda26328267",
            "placeholder": "​",
            "style": "IPY_MODEL_96aab3e127ac454d825d00ce9d8c5cc8",
            "value": "model.safetensors: 100%"
          }
        },
        "bef9c3cd55754eea99b0dad99f049360": {
          "model_module": "@jupyter-widgets/controls",
          "model_module_version": "1.5.0",
          "model_name": "ProgressStyleModel",
          "state": {
            "_model_module": "@jupyter-widgets/controls",
            "_model_module_version": "1.5.0",
            "_model_name": "ProgressStyleModel",
            "_view_count": null,
            "_view_module": "@jupyter-widgets/base",
            "_view_module_version": "1.2.0",
            "_view_name": "StyleView",
            "bar_color": null,
            "description_width": ""
          }
        },
        "c6abd6b026854e16a8a7db571ea5cc5b": {
          "model_module": "@jupyter-widgets/controls",
          "model_module_version": "1.5.0",
          "model_name": "HTMLModel",
          "state": {
            "_dom_classes": [],
            "_model_module": "@jupyter-widgets/controls",
            "_model_module_version": "1.5.0",
            "_model_name": "HTMLModel",
            "_view_count": null,
            "_view_module": "@jupyter-widgets/controls",
            "_view_module_version": "1.5.0",
            "_view_name": "HTMLView",
            "description": "",
            "description_tooltip": null,
            "layout": "IPY_MODEL_27e87e32140d4abb88f07835efecf7dd",
            "placeholder": "​",
            "style": "IPY_MODEL_2f0df68e7a0243908882355bb6ed75ca",
            "value": "model.safetensors: 100%"
          }
        },
        "cf2a39352c61412cae872e58d0502b16": {
          "model_module": "@jupyter-widgets/base",
          "model_module_version": "1.2.0",
          "model_name": "LayoutModel",
          "state": {
            "_model_module": "@jupyter-widgets/base",
            "_model_module_version": "1.2.0",
            "_model_name": "LayoutModel",
            "_view_count": null,
            "_view_module": "@jupyter-widgets/base",
            "_view_module_version": "1.2.0",
            "_view_name": "LayoutView",
            "align_content": null,
            "align_items": null,
            "align_self": null,
            "border": null,
            "bottom": null,
            "display": null,
            "flex": null,
            "flex_flow": null,
            "grid_area": null,
            "grid_auto_columns": null,
            "grid_auto_flow": null,
            "grid_auto_rows": null,
            "grid_column": null,
            "grid_gap": null,
            "grid_row": null,
            "grid_template_areas": null,
            "grid_template_columns": null,
            "grid_template_rows": null,
            "height": null,
            "justify_content": null,
            "justify_items": null,
            "left": null,
            "margin": null,
            "max_height": null,
            "max_width": null,
            "min_height": null,
            "min_width": null,
            "object_fit": null,
            "object_position": null,
            "order": null,
            "overflow": null,
            "overflow_x": null,
            "overflow_y": null,
            "padding": null,
            "right": null,
            "top": null,
            "visibility": null,
            "width": null
          }
        },
        "d80a6a11da6f4cfd85b978a82963798b": {
          "model_module": "@jupyter-widgets/controls",
          "model_module_version": "1.5.0",
          "model_name": "FloatProgressModel",
          "state": {
            "_dom_classes": [],
            "_model_module": "@jupyter-widgets/controls",
            "_model_module_version": "1.5.0",
            "_model_name": "FloatProgressModel",
            "_view_count": null,
            "_view_module": "@jupyter-widgets/controls",
            "_view_module_version": "1.5.0",
            "_view_name": "ProgressView",
            "bar_style": "success",
            "description": "",
            "description_tooltip": null,
            "layout": "IPY_MODEL_7e9a2be80acc41c1a994abfc2e59823b",
            "max": 1469,
            "min": 0,
            "orientation": "horizontal",
            "style": "IPY_MODEL_7288cbaf26214dd0adcda46639b98ebe",
            "value": 1469
          }
        },
        "df30074b15d74406b8156e65af8a2cf3": {
          "model_module": "@jupyter-widgets/base",
          "model_module_version": "1.2.0",
          "model_name": "LayoutModel",
          "state": {
            "_model_module": "@jupyter-widgets/base",
            "_model_module_version": "1.2.0",
            "_model_name": "LayoutModel",
            "_view_count": null,
            "_view_module": "@jupyter-widgets/base",
            "_view_module_version": "1.2.0",
            "_view_name": "LayoutView",
            "align_content": null,
            "align_items": null,
            "align_self": null,
            "border": null,
            "bottom": null,
            "display": null,
            "flex": null,
            "flex_flow": null,
            "grid_area": null,
            "grid_auto_columns": null,
            "grid_auto_flow": null,
            "grid_auto_rows": null,
            "grid_column": null,
            "grid_gap": null,
            "grid_row": null,
            "grid_template_areas": null,
            "grid_template_columns": null,
            "grid_template_rows": null,
            "height": null,
            "justify_content": null,
            "justify_items": null,
            "left": null,
            "margin": null,
            "max_height": null,
            "max_width": null,
            "min_height": null,
            "min_width": null,
            "object_fit": null,
            "object_position": null,
            "order": null,
            "overflow": null,
            "overflow_x": null,
            "overflow_y": null,
            "padding": null,
            "right": null,
            "top": null,
            "visibility": null,
            "width": null
          }
        },
        "e41e2ee57f264ff988bb56df16ac5f7a": {
          "model_module": "@jupyter-widgets/base",
          "model_module_version": "1.2.0",
          "model_name": "LayoutModel",
          "state": {
            "_model_module": "@jupyter-widgets/base",
            "_model_module_version": "1.2.0",
            "_model_name": "LayoutModel",
            "_view_count": null,
            "_view_module": "@jupyter-widgets/base",
            "_view_module_version": "1.2.0",
            "_view_name": "LayoutView",
            "align_content": null,
            "align_items": null,
            "align_self": null,
            "border": null,
            "bottom": null,
            "display": null,
            "flex": null,
            "flex_flow": null,
            "grid_area": null,
            "grid_auto_columns": null,
            "grid_auto_flow": null,
            "grid_auto_rows": null,
            "grid_column": null,
            "grid_gap": null,
            "grid_row": null,
            "grid_template_areas": null,
            "grid_template_columns": null,
            "grid_template_rows": null,
            "height": null,
            "justify_content": null,
            "justify_items": null,
            "left": null,
            "margin": null,
            "max_height": null,
            "max_width": null,
            "min_height": null,
            "min_width": null,
            "object_fit": null,
            "object_position": null,
            "order": null,
            "overflow": null,
            "overflow_x": null,
            "overflow_y": null,
            "padding": null,
            "right": null,
            "top": null,
            "visibility": null,
            "width": null
          }
        },
        "e647da2860034d9b85be15ed1a721ea5": {
          "model_module": "@jupyter-widgets/controls",
          "model_module_version": "1.5.0",
          "model_name": "HTMLModel",
          "state": {
            "_dom_classes": [],
            "_model_module": "@jupyter-widgets/controls",
            "_model_module_version": "1.5.0",
            "_model_name": "HTMLModel",
            "_view_count": null,
            "_view_module": "@jupyter-widgets/controls",
            "_view_module_version": "1.5.0",
            "_view_name": "HTMLView",
            "description": "",
            "description_tooltip": null,
            "layout": "IPY_MODEL_40628761c67c498f8a677f3c0cbc831e",
            "placeholder": "​",
            "style": "IPY_MODEL_0eb26796e4ca440593250b679c98af6f",
            "value": " 54.6M/54.6M [00:00&lt;00:00, 169MB/s]"
          }
        }
      }
    }
  },
  "nbformat": 4,
  "nbformat_minor": 5
}
